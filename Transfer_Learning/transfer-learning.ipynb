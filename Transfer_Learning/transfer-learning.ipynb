{
 "cells": [
  {
   "cell_type": "markdown",
   "metadata": {},
   "source": [
    "# Transfer Learning"
   ]
  },
  {
   "cell_type": "markdown",
   "metadata": {},
   "source": [
    "### Importing Libraries"
   ]
  },
  {
   "cell_type": "code",
   "execution_count": 1,
   "metadata": {},
   "outputs": [
    {
     "name": "stderr",
     "output_type": "stream",
     "text": [
      "Using TensorFlow backend.\n"
     ]
    }
   ],
   "source": [
    "import pandas as pd\n",
    "import numpy as np\n",
    "import os\n",
    "import keras\n",
    "import matplotlib.pyplot as plt\n",
    "from sklearn.metrics import confusion_matrix\n",
    "from keras.layers import Dense,GlobalAveragePooling2D\n",
    "from keras.applications import MobileNet\n",
    "from keras.preprocessing import image\n",
    "from keras.applications.mobilenet import preprocess_input\n",
    "from keras.preprocessing.image import ImageDataGenerator\n",
    "from keras.models import Model\n",
    "from keras.optimizers import Adam\n",
    "\n",
    "%matplotlib inline"
   ]
  },
  {
   "cell_type": "markdown",
   "metadata": {},
   "source": [
    "### Get at the layers of the model"
   ]
  },
  {
   "cell_type": "code",
   "execution_count": 16,
   "metadata": {},
   "outputs": [
    {
     "name": "stdout",
     "output_type": "stream",
     "text": [
      "input_4 <keras.engine.input_layer.InputLayer object at 0x00000204075D6688>\n",
      "conv1_pad <keras.layers.convolutional.ZeroPadding2D object at 0x00000204075D66C8>\n",
      "conv1 <keras.layers.convolutional.Conv2D object at 0x00000204075D6308>\n",
      "conv1_bn <keras.layers.normalization.BatchNormalization object at 0x00000204075D6FC8>\n",
      "conv1_relu <keras.layers.advanced_activations.ReLU object at 0x00000204075D6D08>\n",
      "conv_dw_1 <keras.layers.convolutional.DepthwiseConv2D object at 0x00000204075F5288>\n",
      "conv_dw_1_bn <keras.layers.normalization.BatchNormalization object at 0x00000204075F1C08>\n",
      "conv_dw_1_relu <keras.layers.advanced_activations.ReLU object at 0x00000204076040C8>\n",
      "conv_pw_1 <keras.layers.convolutional.Conv2D object at 0x0000020407604F48>\n",
      "conv_pw_1_bn <keras.layers.normalization.BatchNormalization object at 0x000002040761FC08>\n",
      "conv_pw_1_relu <keras.layers.advanced_activations.ReLU object at 0x00000204076358C8>\n",
      "conv_pad_2 <keras.layers.convolutional.ZeroPadding2D object at 0x0000020407638B88>\n",
      "conv_dw_2 <keras.layers.convolutional.DepthwiseConv2D object at 0x000002040764E1C8>\n",
      "conv_dw_2_bn <keras.layers.normalization.BatchNormalization object at 0x000002040766B688>\n",
      "conv_dw_2_relu <keras.layers.advanced_activations.ReLU object at 0x000002040766E048>\n",
      "conv_pw_2 <keras.layers.convolutional.Conv2D object at 0x000002040766EF08>\n",
      "conv_pw_2_bn <keras.layers.normalization.BatchNormalization object at 0x000002040768CBC8>\n",
      "conv_pw_2_relu <keras.layers.advanced_activations.ReLU object at 0x00000204076A5108>\n",
      "conv_dw_3 <keras.layers.convolutional.DepthwiseConv2D object at 0x00000204076A5B48>\n",
      "conv_dw_3_bn <keras.layers.normalization.BatchNormalization object at 0x00000204076D3D48>\n",
      "conv_dw_3_relu <keras.layers.advanced_activations.ReLU object at 0x00000204076D6788>\n",
      "conv_pw_3 <keras.layers.convolutional.Conv2D object at 0x00000204076D99C8>\n",
      "conv_pw_3_bn <keras.layers.normalization.BatchNormalization object at 0x00000204076F4E08>\n",
      "conv_pw_3_relu <keras.layers.advanced_activations.ReLU object at 0x000002040770D488>\n",
      "conv_pad_4 <keras.layers.convolutional.ZeroPadding2D object at 0x000002040770DEC8>\n",
      "conv_dw_4 <keras.layers.convolutional.DepthwiseConv2D object at 0x000002040770DD88>\n",
      "conv_dw_4_bn <keras.layers.normalization.BatchNormalization object at 0x0000020407744308>\n",
      "conv_dw_4_relu <keras.layers.advanced_activations.ReLU object at 0x0000020407744548>\n",
      "conv_pw_4 <keras.layers.convolutional.Conv2D object at 0x0000020407747C08>\n",
      "conv_pw_4_bn <keras.layers.normalization.BatchNormalization object at 0x0000020407767188>\n",
      "conv_pw_4_relu <keras.layers.advanced_activations.ReLU object at 0x0000020407779948>\n",
      "conv_dw_5 <keras.layers.convolutional.DepthwiseConv2D object at 0x0000020407779F48>\n",
      "conv_dw_5_bn <keras.layers.normalization.BatchNormalization object at 0x00000204077A8808>\n",
      "conv_dw_5_relu <keras.layers.advanced_activations.ReLU object at 0x00000204077B2308>\n",
      "conv_pw_5 <keras.layers.convolutional.Conv2D object at 0x00000204077B5548>\n",
      "conv_pw_5_bn <keras.layers.normalization.BatchNormalization object at 0x00000204077CF8C8>\n",
      "conv_pw_5_relu <keras.layers.advanced_activations.ReLU object at 0x00000204077DB1C8>\n",
      "conv_pad_6 <keras.layers.convolutional.ZeroPadding2D object at 0x00000204077DBE08>\n",
      "conv_dw_6 <keras.layers.convolutional.DepthwiseConv2D object at 0x00000204077FD688>\n",
      "conv_dw_6_bn <keras.layers.normalization.BatchNormalization object at 0x000002040781AF08>\n",
      "conv_dw_6_relu <keras.layers.advanced_activations.ReLU object at 0x000002040781E0C8>\n",
      "conv_pw_6 <keras.layers.convolutional.Conv2D object at 0x0000020407821748>\n",
      "conv_pw_6_bn <keras.layers.normalization.BatchNormalization object at 0x000002040783BAC8>\n",
      "conv_pw_6_relu <keras.layers.advanced_activations.ReLU object at 0x0000020407857188>\n",
      "conv_dw_7 <keras.layers.convolutional.DepthwiseConv2D object at 0x0000020407857F88>\n",
      "conv_dw_7_bn <keras.layers.normalization.BatchNormalization object at 0x0000020407887D48>\n",
      "conv_dw_7_relu <keras.layers.advanced_activations.ReLU object at 0x000002040788B1C8>\n",
      "conv_pw_7 <keras.layers.convolutional.Conv2D object at 0x000002040788BE88>\n",
      "conv_pw_7_bn <keras.layers.normalization.BatchNormalization object at 0x00000204078AAD88>\n",
      "conv_pw_7_relu <keras.layers.advanced_activations.ReLU object at 0x00000204078C2088>\n",
      "conv_dw_8 <keras.layers.convolutional.DepthwiseConv2D object at 0x00000204078C2AC8>\n",
      "conv_dw_8_bn <keras.layers.normalization.BatchNormalization object at 0x00000204078F1CC8>\n",
      "conv_dw_8_relu <keras.layers.advanced_activations.ReLU object at 0x00000204078F3708>\n",
      "conv_pw_8 <keras.layers.convolutional.Conv2D object at 0x00000204078F8948>\n",
      "conv_pw_8_bn <keras.layers.normalization.BatchNormalization object at 0x0000020407913CC8>\n",
      "conv_pw_8_relu <keras.layers.advanced_activations.ReLU object at 0x000002040792C048>\n",
      "conv_dw_9 <keras.layers.convolutional.DepthwiseConv2D object at 0x000002040792CF88>\n",
      "conv_dw_9_bn <keras.layers.normalization.BatchNormalization object at 0x0000020407A7ED48>\n",
      "conv_dw_9_relu <keras.layers.advanced_activations.ReLU object at 0x0000020407A823C8>\n",
      "conv_pw_9 <keras.layers.convolutional.Conv2D object at 0x0000020407A827C8>\n",
      "conv_pw_9_bn <keras.layers.normalization.BatchNormalization object at 0x0000020407AA1F08>\n",
      "conv_pw_9_relu <keras.layers.advanced_activations.ReLU object at 0x0000020407ABA288>\n",
      "conv_dw_10 <keras.layers.convolutional.DepthwiseConv2D object at 0x0000020407ABACC8>\n",
      "conv_dw_10_bn <keras.layers.normalization.BatchNormalization object at 0x0000020407AEA908>\n",
      "conv_dw_10_relu <keras.layers.advanced_activations.ReLU object at 0x0000020407AEA408>\n",
      "conv_pw_10 <keras.layers.convolutional.Conv2D object at 0x0000020407AEEB88>\n",
      "conv_pw_10_bn <keras.layers.normalization.BatchNormalization object at 0x0000020407B09F08>\n",
      "conv_pw_10_relu <keras.layers.advanced_activations.ReLU object at 0x0000020407B231C8>\n",
      "conv_dw_11 <keras.layers.convolutional.DepthwiseConv2D object at 0x0000020407B23F88>\n",
      "conv_dw_11_bn <keras.layers.normalization.BatchNormalization object at 0x0000020407B56E48>\n",
      "conv_dw_11_relu <keras.layers.advanced_activations.ReLU object at 0x0000020407B5B108>\n",
      "conv_pw_11 <keras.layers.convolutional.Conv2D object at 0x0000020407B5B848>\n",
      "conv_pw_11_bn <keras.layers.normalization.BatchNormalization object at 0x0000020407B79F08>\n",
      "conv_pw_11_relu <keras.layers.advanced_activations.ReLU object at 0x0000020407B90248>\n",
      "conv_pad_12 <keras.layers.convolutional.ZeroPadding2D object at 0x0000020407B90C88>\n",
      "conv_dw_12 <keras.layers.convolutional.DepthwiseConv2D object at 0x0000020407BA7648>\n",
      "conv_dw_12_bn <keras.layers.normalization.BatchNormalization object at 0x0000020407BC6A88>\n",
      "conv_dw_12_relu <keras.layers.advanced_activations.ReLU object at 0x0000020407BC52C8>\n",
      "conv_pw_12 <keras.layers.convolutional.Conv2D object at 0x0000020407BCD3C8>\n",
      "conv_pw_12_bn <keras.layers.normalization.BatchNormalization object at 0x0000020407BE7E08>\n",
      "conv_pw_12_relu <keras.layers.advanced_activations.ReLU object at 0x0000020407BFF308>\n",
      "conv_dw_13 <keras.layers.convolutional.DepthwiseConv2D object at 0x0000020407BFFD48>\n",
      "conv_dw_13_bn <keras.layers.normalization.BatchNormalization object at 0x0000020407C2F208>\n",
      "conv_dw_13_relu <keras.layers.advanced_activations.ReLU object at 0x0000020407C32288>\n",
      "conv_pw_13 <keras.layers.convolutional.Conv2D object at 0x0000020407C35B48>\n",
      "conv_pw_13_bn <keras.layers.normalization.BatchNormalization object at 0x0000020407C50F08>\n",
      "conv_pw_13_relu <keras.layers.advanced_activations.ReLU object at 0x0000020407C681C8>\n",
      "Tensor(\"conv_dw_12_3/depthwise:0\", shape=(None, None, None, 512), dtype=float32)\n"
     ]
    }
   ],
   "source": [
    "mobilenet_model=MobileNet(weights='imagenet',include_top=False,)\n",
    "\n",
    "# Creating dictionary that maps layer names to the layers\n",
    "layer_dict = dict([(layer.name, layer) for layer in mobilenet_model.layers])\n",
    "for layer in lgitayer_dict.keys():\n",
    "    print(layer, layer_dict[layer])\n",
    "\n",
    "# Getting output tensor of the last VGG layer that we want to include\n",
    "x = layer_dict['conv_dw_12'].output\n",
    "print(x)"
   ]
  },
  {
   "cell_type": "code",
   "execution_count": null,
   "metadata": {},
   "outputs": [],
   "source": []
  },
  {
   "cell_type": "markdown",
   "metadata": {},
   "source": [
    "### Adding custom layer to MobileNet model by dropping the last layers of the model"
   ]
  },
  {
   "cell_type": "code",
   "execution_count": 2,
   "metadata": {},
   "outputs": [
    {
     "name": "stderr",
     "output_type": "stream",
     "text": [
      "C:\\Users\\91874\\anaconda3\\lib\\site-packages\\keras_applications\\mobilenet.py:207: UserWarning: `input_shape` is undefined or non-square, or `rows` is not in [128, 160, 192, 224]. Weights for input shape (224, 224) will be loaded as the default.\n",
      "  warnings.warn('`input_shape` is undefined or non-square, '\n"
     ]
    }
   ],
   "source": [
    "base_model=MobileNet(weights='imagenet',include_top=False,) #imports the mobilenet model and discards the last 1000 neuron layer.\n",
    "\n",
    "x=base_model.output\n",
    "x=GlobalAveragePooling2D()(x)\n",
    "x=Dense(1024,activation='relu')(x) #we add dense layers so that the model can learn more complex functions and classify for better results.\n",
    "x=Dense(1024,activation='relu')(x) #dense layer 2\n",
    "x=Dense(512,activation='relu')(x) #dense layer 3\n",
    "preds=Dense(3,activation='softmax')(x) #final layer with softmax activation"
   ]
  },
  {
   "cell_type": "markdown",
   "metadata": {},
   "source": [
    "### Creating the model"
   ]
  },
  {
   "cell_type": "code",
   "execution_count": 3,
   "metadata": {},
   "outputs": [
    {
     "name": "stdout",
     "output_type": "stream",
     "text": [
      "Model: \"model_1\"\n",
      "_________________________________________________________________\n",
      "Layer (type)                 Output Shape              Param #   \n",
      "=================================================================\n",
      "input_1 (InputLayer)         (None, None, None, 3)     0         \n",
      "_________________________________________________________________\n",
      "conv1_pad (ZeroPadding2D)    (None, None, None, 3)     0         \n",
      "_________________________________________________________________\n",
      "conv1 (Conv2D)               (None, None, None, 32)    864       \n",
      "_________________________________________________________________\n",
      "conv1_bn (BatchNormalization (None, None, None, 32)    128       \n",
      "_________________________________________________________________\n",
      "conv1_relu (ReLU)            (None, None, None, 32)    0         \n",
      "_________________________________________________________________\n",
      "conv_dw_1 (DepthwiseConv2D)  (None, None, None, 32)    288       \n",
      "_________________________________________________________________\n",
      "conv_dw_1_bn (BatchNormaliza (None, None, None, 32)    128       \n",
      "_________________________________________________________________\n",
      "conv_dw_1_relu (ReLU)        (None, None, None, 32)    0         \n",
      "_________________________________________________________________\n",
      "conv_pw_1 (Conv2D)           (None, None, None, 64)    2048      \n",
      "_________________________________________________________________\n",
      "conv_pw_1_bn (BatchNormaliza (None, None, None, 64)    256       \n",
      "_________________________________________________________________\n",
      "conv_pw_1_relu (ReLU)        (None, None, None, 64)    0         \n",
      "_________________________________________________________________\n",
      "conv_pad_2 (ZeroPadding2D)   (None, None, None, 64)    0         \n",
      "_________________________________________________________________\n",
      "conv_dw_2 (DepthwiseConv2D)  (None, None, None, 64)    576       \n",
      "_________________________________________________________________\n",
      "conv_dw_2_bn (BatchNormaliza (None, None, None, 64)    256       \n",
      "_________________________________________________________________\n",
      "conv_dw_2_relu (ReLU)        (None, None, None, 64)    0         \n",
      "_________________________________________________________________\n",
      "conv_pw_2 (Conv2D)           (None, None, None, 128)   8192      \n",
      "_________________________________________________________________\n",
      "conv_pw_2_bn (BatchNormaliza (None, None, None, 128)   512       \n",
      "_________________________________________________________________\n",
      "conv_pw_2_relu (ReLU)        (None, None, None, 128)   0         \n",
      "_________________________________________________________________\n",
      "conv_dw_3 (DepthwiseConv2D)  (None, None, None, 128)   1152      \n",
      "_________________________________________________________________\n",
      "conv_dw_3_bn (BatchNormaliza (None, None, None, 128)   512       \n",
      "_________________________________________________________________\n",
      "conv_dw_3_relu (ReLU)        (None, None, None, 128)   0         \n",
      "_________________________________________________________________\n",
      "conv_pw_3 (Conv2D)           (None, None, None, 128)   16384     \n",
      "_________________________________________________________________\n",
      "conv_pw_3_bn (BatchNormaliza (None, None, None, 128)   512       \n",
      "_________________________________________________________________\n",
      "conv_pw_3_relu (ReLU)        (None, None, None, 128)   0         \n",
      "_________________________________________________________________\n",
      "conv_pad_4 (ZeroPadding2D)   (None, None, None, 128)   0         \n",
      "_________________________________________________________________\n",
      "conv_dw_4 (DepthwiseConv2D)  (None, None, None, 128)   1152      \n",
      "_________________________________________________________________\n",
      "conv_dw_4_bn (BatchNormaliza (None, None, None, 128)   512       \n",
      "_________________________________________________________________\n",
      "conv_dw_4_relu (ReLU)        (None, None, None, 128)   0         \n",
      "_________________________________________________________________\n",
      "conv_pw_4 (Conv2D)           (None, None, None, 256)   32768     \n",
      "_________________________________________________________________\n",
      "conv_pw_4_bn (BatchNormaliza (None, None, None, 256)   1024      \n",
      "_________________________________________________________________\n",
      "conv_pw_4_relu (ReLU)        (None, None, None, 256)   0         \n",
      "_________________________________________________________________\n",
      "conv_dw_5 (DepthwiseConv2D)  (None, None, None, 256)   2304      \n",
      "_________________________________________________________________\n",
      "conv_dw_5_bn (BatchNormaliza (None, None, None, 256)   1024      \n",
      "_________________________________________________________________\n",
      "conv_dw_5_relu (ReLU)        (None, None, None, 256)   0         \n",
      "_________________________________________________________________\n",
      "conv_pw_5 (Conv2D)           (None, None, None, 256)   65536     \n",
      "_________________________________________________________________\n",
      "conv_pw_5_bn (BatchNormaliza (None, None, None, 256)   1024      \n",
      "_________________________________________________________________\n",
      "conv_pw_5_relu (ReLU)        (None, None, None, 256)   0         \n",
      "_________________________________________________________________\n",
      "conv_pad_6 (ZeroPadding2D)   (None, None, None, 256)   0         \n",
      "_________________________________________________________________\n",
      "conv_dw_6 (DepthwiseConv2D)  (None, None, None, 256)   2304      \n",
      "_________________________________________________________________\n",
      "conv_dw_6_bn (BatchNormaliza (None, None, None, 256)   1024      \n",
      "_________________________________________________________________\n",
      "conv_dw_6_relu (ReLU)        (None, None, None, 256)   0         \n",
      "_________________________________________________________________\n",
      "conv_pw_6 (Conv2D)           (None, None, None, 512)   131072    \n",
      "_________________________________________________________________\n",
      "conv_pw_6_bn (BatchNormaliza (None, None, None, 512)   2048      \n",
      "_________________________________________________________________\n",
      "conv_pw_6_relu (ReLU)        (None, None, None, 512)   0         \n",
      "_________________________________________________________________\n",
      "conv_dw_7 (DepthwiseConv2D)  (None, None, None, 512)   4608      \n",
      "_________________________________________________________________\n",
      "conv_dw_7_bn (BatchNormaliza (None, None, None, 512)   2048      \n",
      "_________________________________________________________________\n",
      "conv_dw_7_relu (ReLU)        (None, None, None, 512)   0         \n",
      "_________________________________________________________________\n",
      "conv_pw_7 (Conv2D)           (None, None, None, 512)   262144    \n",
      "_________________________________________________________________\n",
      "conv_pw_7_bn (BatchNormaliza (None, None, None, 512)   2048      \n",
      "_________________________________________________________________\n",
      "conv_pw_7_relu (ReLU)        (None, None, None, 512)   0         \n",
      "_________________________________________________________________\n",
      "conv_dw_8 (DepthwiseConv2D)  (None, None, None, 512)   4608      \n",
      "_________________________________________________________________\n",
      "conv_dw_8_bn (BatchNormaliza (None, None, None, 512)   2048      \n",
      "_________________________________________________________________\n",
      "conv_dw_8_relu (ReLU)        (None, None, None, 512)   0         \n",
      "_________________________________________________________________\n",
      "conv_pw_8 (Conv2D)           (None, None, None, 512)   262144    \n",
      "_________________________________________________________________\n",
      "conv_pw_8_bn (BatchNormaliza (None, None, None, 512)   2048      \n",
      "_________________________________________________________________\n",
      "conv_pw_8_relu (ReLU)        (None, None, None, 512)   0         \n",
      "_________________________________________________________________\n",
      "conv_dw_9 (DepthwiseConv2D)  (None, None, None, 512)   4608      \n",
      "_________________________________________________________________\n",
      "conv_dw_9_bn (BatchNormaliza (None, None, None, 512)   2048      \n",
      "_________________________________________________________________\n",
      "conv_dw_9_relu (ReLU)        (None, None, None, 512)   0         \n",
      "_________________________________________________________________\n",
      "conv_pw_9 (Conv2D)           (None, None, None, 512)   262144    \n",
      "_________________________________________________________________\n",
      "conv_pw_9_bn (BatchNormaliza (None, None, None, 512)   2048      \n",
      "_________________________________________________________________\n",
      "conv_pw_9_relu (ReLU)        (None, None, None, 512)   0         \n",
      "_________________________________________________________________\n",
      "conv_dw_10 (DepthwiseConv2D) (None, None, None, 512)   4608      \n",
      "_________________________________________________________________\n",
      "conv_dw_10_bn (BatchNormaliz (None, None, None, 512)   2048      \n",
      "_________________________________________________________________\n",
      "conv_dw_10_relu (ReLU)       (None, None, None, 512)   0         \n",
      "_________________________________________________________________\n",
      "conv_pw_10 (Conv2D)          (None, None, None, 512)   262144    \n",
      "_________________________________________________________________\n",
      "conv_pw_10_bn (BatchNormaliz (None, None, None, 512)   2048      \n",
      "_________________________________________________________________\n",
      "conv_pw_10_relu (ReLU)       (None, None, None, 512)   0         \n",
      "_________________________________________________________________\n",
      "conv_dw_11 (DepthwiseConv2D) (None, None, None, 512)   4608      \n",
      "_________________________________________________________________\n",
      "conv_dw_11_bn (BatchNormaliz (None, None, None, 512)   2048      \n",
      "_________________________________________________________________\n",
      "conv_dw_11_relu (ReLU)       (None, None, None, 512)   0         \n",
      "_________________________________________________________________\n",
      "conv_pw_11 (Conv2D)          (None, None, None, 512)   262144    \n",
      "_________________________________________________________________\n",
      "conv_pw_11_bn (BatchNormaliz (None, None, None, 512)   2048      \n",
      "_________________________________________________________________\n",
      "conv_pw_11_relu (ReLU)       (None, None, None, 512)   0         \n",
      "_________________________________________________________________\n",
      "conv_pad_12 (ZeroPadding2D)  (None, None, None, 512)   0         \n",
      "_________________________________________________________________\n",
      "conv_dw_12 (DepthwiseConv2D) (None, None, None, 512)   4608      \n",
      "_________________________________________________________________\n",
      "conv_dw_12_bn (BatchNormaliz (None, None, None, 512)   2048      \n",
      "_________________________________________________________________\n",
      "conv_dw_12_relu (ReLU)       (None, None, None, 512)   0         \n",
      "_________________________________________________________________\n",
      "conv_pw_12 (Conv2D)          (None, None, None, 1024)  524288    \n",
      "_________________________________________________________________\n",
      "conv_pw_12_bn (BatchNormaliz (None, None, None, 1024)  4096      \n",
      "_________________________________________________________________\n",
      "conv_pw_12_relu (ReLU)       (None, None, None, 1024)  0         \n",
      "_________________________________________________________________\n",
      "conv_dw_13 (DepthwiseConv2D) (None, None, None, 1024)  9216      \n",
      "_________________________________________________________________\n",
      "conv_dw_13_bn (BatchNormaliz (None, None, None, 1024)  4096      \n",
      "_________________________________________________________________\n",
      "conv_dw_13_relu (ReLU)       (None, None, None, 1024)  0         \n",
      "_________________________________________________________________\n",
      "conv_pw_13 (Conv2D)          (None, None, None, 1024)  1048576   \n",
      "_________________________________________________________________\n",
      "conv_pw_13_bn (BatchNormaliz (None, None, None, 1024)  4096      \n",
      "_________________________________________________________________\n",
      "conv_pw_13_relu (ReLU)       (None, None, None, 1024)  0         \n",
      "_________________________________________________________________\n",
      "global_average_pooling2d_1 ( (None, 1024)              0         \n",
      "_________________________________________________________________\n",
      "dense_1 (Dense)              (None, 1024)              1049600   \n",
      "_________________________________________________________________\n",
      "dense_2 (Dense)              (None, 1024)              1049600   \n",
      "_________________________________________________________________\n",
      "dense_3 (Dense)              (None, 512)               524800    \n",
      "_________________________________________________________________\n",
      "dense_4 (Dense)              (None, 3)                 1539      \n",
      "=================================================================\n",
      "Total params: 5,854,403\n",
      "Trainable params: 5,832,515\n",
      "Non-trainable params: 21,888\n",
      "_________________________________________________________________\n"
     ]
    }
   ],
   "source": [
    "model=Model(inputs=base_model.input,outputs=preds)\n",
    "model.summary()"
   ]
  },
  {
   "cell_type": "markdown",
   "metadata": {},
   "source": [
    "### Freezing the top t20 layes so that they don't get trained"
   ]
  },
  {
   "cell_type": "code",
   "execution_count": 4,
   "metadata": {},
   "outputs": [],
   "source": [
    "for layer in model.layers[:20]:\n",
    "    layer.trainable=False\n",
    "for layer in model.layers[20:]:\n",
    "    layer.trainable=True"
   ]
  },
  {
   "cell_type": "markdown",
   "metadata": {},
   "source": [
    "### Splitting data into train, val and test set"
   ]
  },
  {
   "cell_type": "code",
   "execution_count": 19,
   "metadata": {},
   "outputs": [
    {
     "name": "stdout",
     "output_type": "stream",
     "text": [
      "Found 158 images belonging to 3 classes.\n",
      "Found 39 images belonging to 3 classes.\n",
      "Found 25 images belonging to 3 classes.\n"
     ]
    }
   ],
   "source": [
    "train_datagen=ImageDataGenerator(preprocessing_function=preprocess_input,   #included in our dependencies\n",
    "                                 validation_split=0.2) \n",
    "\n",
    "train_generator=train_datagen.flow_from_directory(\n",
    "                                                'train/', # this is where you specify the path to the main data folder\n",
    "                                                 target_size=(224,224),\n",
    "                                                 color_mode='rgb',\n",
    "                                                 batch_size=16,\n",
    "                                                 class_mode='categorical',\n",
    "                                                 shuffle=True,\n",
    "                                                 subset='training') # set as training data)\n",
    "\n",
    "validation_generator = train_datagen.flow_from_directory(\n",
    "                                                'train/', # same directory as training data\n",
    "                                                 target_size=(224,224),\n",
    "                                                 color_mode='rgb',\n",
    "#                                                  batch_size=32,\n",
    "                                                 class_mode='categorical',\n",
    "                                                 shuffle=True,\n",
    "                                                 subset='validation') # set as validation data\n",
    "\n",
    "test_datagen = ImageDataGenerator(preprocessing_function=preprocess_input)\n",
    "\n",
    "test_generator = test_datagen.flow_from_directory(\n",
    "                                                'test/',\n",
    "                                                target_size=(224,224),\n",
    "                                                color_mode=\"rgb\",\n",
    "                                                shuffle = False,\n",
    "                                                class_mode='categorical',\n",
    "                                                batch_size=1)"
   ]
  },
  {
   "cell_type": "markdown",
   "metadata": {},
   "source": [
    "### Training the new model to the new data"
   ]
  },
  {
   "cell_type": "code",
   "execution_count": 6,
   "metadata": {},
   "outputs": [
    {
     "name": "stdout",
     "output_type": "stream",
     "text": [
      "Epoch 1/10\n",
      "9/9 [==============================] - 28s 3s/step - loss: 1.3128 - accuracy: 0.6197 - val_loss: 0.8728 - val_accuracy: 0.8974\n",
      "Epoch 2/10\n",
      "9/9 [==============================] - 21s 2s/step - loss: 0.2144 - accuracy: 0.9225 - val_loss: 0.1311 - val_accuracy: 0.9487\n",
      "Epoch 3/10\n",
      "9/9 [==============================] - 21s 2s/step - loss: 0.1942 - accuracy: 0.9507 - val_loss: 0.2044 - val_accuracy: 0.9231\n",
      "Epoch 4/10\n",
      "9/9 [==============================] - 23s 3s/step - loss: 0.0552 - accuracy: 0.9792 - val_loss: 1.0172 - val_accuracy: 0.8205\n",
      "Epoch 5/10\n",
      "9/9 [==============================] - 20s 2s/step - loss: 0.0772 - accuracy: 0.9643 - val_loss: 3.6874 - val_accuracy: 0.7692\n",
      "Epoch 6/10\n",
      "9/9 [==============================] - 21s 2s/step - loss: 0.1426 - accuracy: 0.9718 - val_loss: 4.5151 - val_accuracy: 0.7692\n",
      "Epoch 7/10\n",
      "9/9 [==============================] - 22s 2s/step - loss: 0.0902 - accuracy: 0.9792 - val_loss: 4.0250 - val_accuracy: 0.6410\n",
      "Epoch 8/10\n",
      "9/9 [==============================] - 21s 2s/step - loss: 0.1791 - accuracy: 0.9577 - val_loss: 0.7976 - val_accuracy: 0.6667\n",
      "Epoch 9/10\n",
      "9/9 [==============================] - 21s 2s/step - loss: 0.0456 - accuracy: 0.9930 - val_loss: 5.4375e-04 - val_accuracy: 0.8974\n",
      "Epoch 10/10\n",
      "9/9 [==============================] - 21s 2s/step - loss: 0.0796 - accuracy: 0.9789 - val_loss: 1.2874e-05 - val_accuracy: 0.9487\n"
     ]
    },
    {
     "data": {
      "text/plain": [
       "<keras.callbacks.callbacks.History at 0x2044acb1a08>"
      ]
     },
     "execution_count": 6,
     "metadata": {},
     "output_type": "execute_result"
    }
   ],
   "source": [
    "model.compile(optimizer='Adam',loss='categorical_crossentropy',metrics=['accuracy'])\n",
    "# Adam optimizer\n",
    "# loss function will be categorical cross entropy\n",
    "# evaluation metric will be accuracy\n",
    "\n",
    "step_size_train=train_generator.n//train_generator.batch_size\n",
    "# step_size_val = validation_generator.n // validation_generator.batch_size,\n",
    "model.fit_generator(generator=train_generator,\n",
    "                   steps_per_epoch=step_size_train,\n",
    "                   epochs=10,\n",
    "                   validation_data = validation_generator,)\n",
    "#                    validation_steps=step_size_val)"
   ]
  },
  {
   "cell_type": "markdown",
   "metadata": {},
   "source": [
    "### Loss and accuracy of learned model"
   ]
  },
  {
   "cell_type": "code",
   "execution_count": 7,
   "metadata": {},
   "outputs": [
    {
     "data": {
      "image/png": "[encoded data removed]",
      "text/plain": [
       "<Figure size 1152x720 with 2 Axes>"
      ]
     },
     "metadata": {
      "needs_background": "light"
     },
     "output_type": "display_data"
    }
   ],
   "source": [
    "epochs = 10\n",
    "fig , (ax1, ax2) = plt.subplots(1, 2, figsize=(16, 10))\n",
    "ax1.plot(np.arange(1, epochs + 1), model.history.history['val_loss'], label = 'val_loss')\n",
    "ax1.plot(np.arange(1, epochs + 1), model.history.history['loss'], label = 'train_loss')\n",
    "ax1.set_xticks(np.arange(1, epochs + 1))\n",
    "ax1.set_xlabel(\"Epochs\")\n",
    "ax1.set_ylabel(\"Loss\")\n",
    "ax1.legend()\n",
    "ax2.plot(np.arange(1, epochs + 1), model.history.history['val_accuracy'], label = 'val_accuracy')\n",
    "ax2.plot(np.arange(1, epochs + 1), model.history.history['accuracy'], label = 'train_accuracy')\n",
    "ax2.set_xticks(np.arange(1, epochs + 1))\n",
    "ax2.set_xlabel(\"Epochs\")\n",
    "ax2.set_ylabel(\"Accuracy\")\n",
    "ax2.legend()\n",
    "\n",
    "plt.show()"
   ]
  },
  {
   "cell_type": "markdown",
   "metadata": {},
   "source": [
    "### Predicting on test data set"
   ]
  },
  {
   "cell_type": "code",
   "execution_count": 20,
   "metadata": {},
   "outputs": [],
   "source": [
    "filenames = test_generator.filenames\n",
    "nb_samples = len(filenames)\n",
    "\n",
    "predict = model.predict_generator(test_generator,steps = nb_samples)"
   ]
  },
  {
   "cell_type": "code",
   "execution_count": 21,
   "metadata": {},
   "outputs": [
    {
     "data": {
      "text/plain": [
       "array([[9.9971920e-01, 3.3424400e-05, 2.4738355e-04],\n",
       "       [9.9997675e-01, 6.8709295e-07, 2.2562443e-05],\n",
       "       [1.6187531e-01, 9.9206762e-04, 8.3713263e-01],\n",
       "       [2.5638830e-04, 1.1220233e-04, 9.9963140e-01],\n",
       "       [8.7973248e-04, 4.3597040e-05, 9.9907660e-01],\n",
       "       [1.0912658e-03, 9.9876910e-01, 1.3966870e-04],\n",
       "       [5.3023285e-01, 2.2998902e-03, 4.6746719e-01],\n",
       "       [9.9737251e-01, 2.0191206e-03, 6.0838775e-04],\n",
       "       [6.4211022e-08, 4.6964328e-07, 9.9999952e-01],\n",
       "       [2.8510433e-01, 7.3206535e-04, 7.1416354e-01],\n",
       "       [2.5320038e-10, 7.3408357e-10, 1.0000000e+00],\n",
       "       [5.9178589e-08, 7.2161797e-08, 9.9999988e-01],\n",
       "       [1.9740312e-09, 1.9588597e-09, 1.0000000e+00]], dtype=float32)"
      ]
     },
     "execution_count": 21,
     "metadata": {},
     "output_type": "execute_result"
    }
   ],
   "source": [
    "predict[::2]"
   ]
  },
  {
   "cell_type": "code",
   "execution_count": 22,
   "metadata": {},
   "outputs": [
    {
     "data": {
      "text/plain": [
       "array([0, 0, 0, 0, 0, 0, 0, 0, 0, 1, 1, 1, 1, 1, 1, 1, 1, 1, 1, 1, 2, 2,\n",
       "       2, 2, 2])"
      ]
     },
     "execution_count": 22,
     "metadata": {},
     "output_type": "execute_result"
    }
   ],
   "source": [
    "y_true_labels = test_generator.classes\n",
    "y_true_labels"
   ]
  },
  {
   "cell_type": "code",
   "execution_count": 23,
   "metadata": {},
   "outputs": [
    {
     "data": {
      "text/plain": [
       "array([0, 0, 0, 0, 2, 0, 2, 0, 2, 0, 1, 2, 0, 2, 0, 1, 2, 2, 2, 1, 2, 2,\n",
       "       2, 2, 2], dtype=int64)"
      ]
     },
     "execution_count": 23,
     "metadata": {},
     "output_type": "execute_result"
    }
   ],
   "source": [
    "y_pred_labels = np.argmax(predict, axis = 1)\n",
    "y_pred_labels"
   ]
  },
  {
   "cell_type": "markdown",
   "metadata": {},
   "source": [
    "### Confusion matrix"
   ]
  },
  {
   "cell_type": "code",
   "execution_count": 24,
   "metadata": {},
   "outputs": [
    {
     "data": {
      "text/plain": [
       "array([[6, 0, 3],\n",
       "       [3, 3, 5],\n",
       "       [0, 0, 5]], dtype=int64)"
      ]
     },
     "execution_count": 24,
     "metadata": {},
     "output_type": "execute_result"
    }
   ],
   "source": [
    "confusion_matrix(y_true_labels, y_pred_labels)"
   ]
  },
  {
   "cell_type": "code",
   "execution_count": null,
   "metadata": {},
   "outputs": [],
   "source": []
  }
 ],
 "metadata": {
  "kernelspec": {
   "display_name": "Python 3",
   "language": "python",
   "name": "python3"
  },
  "language_info": {
   "codemirror_mode": {
    "name": "ipython",
    "version": 3
   },
   "file_extension": ".py",
   "mimetype": "text/x-python",
   "name": "python",
   "nbconvert_exporter": "python",
   "pygments_lexer": "ipython3",
   "version": "3.7.6"
  }
 },
 "nbformat": 4,
 "nbformat_minor": 2
}
