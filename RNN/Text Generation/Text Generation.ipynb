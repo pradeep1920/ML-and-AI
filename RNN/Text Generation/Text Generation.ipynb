{
 "cells": [
  {
   "cell_type": "code",
   "execution_count": 1,
   "metadata": {
    "colab": {},
    "colab_type": "code",
    "id": "BOwsuGQQY9OL"
   },
   "outputs": [],
   "source": [
    "from tensorflow.keras.preprocessing.sequence import pad_sequences\n",
    "from tensorflow.keras.layers import Embedding, LSTM, Dense, Dropout, Bidirectional\n",
    "from tensorflow.keras.preprocessing.text import Tokenizer\n",
    "from tensorflow.keras.models import Sequential\n",
    "from tensorflow.keras.optimizers import Adam\n",
    "from tensorflow.keras import regularizers\n",
    "import tensorflow.keras.utils as ku\n",
    "import numpy as np "
   ]
  },
  {
   "cell_type": "markdown",
   "metadata": {},
   "source": [
    "## Example to generate dataset for Seq2Seq model"
   ]
  },
  {
   "cell_type": "markdown",
   "metadata": {},
   "source": [
    "### a) Tokenize the data"
   ]
  },
  {
   "cell_type": "code",
   "execution_count": 2,
   "metadata": {},
   "outputs": [
    {
     "name": "stdout",
     "output_type": "stream",
     "text": [
      "{'i': 1, 'love': 2, 'no': 3, 'want': 4, 'of': 5, 'conscience': 6, 'hold': 7, 'it': 8, 'that': 9, 'call': 10, 'her': 11, 'for': 12, 'whose': 13, 'dear': 14, 'rise': 15, 'and': 16, 'fall': 17}\n",
      "Corpos length: 18\n"
     ]
    }
   ],
   "source": [
    "data = \"No want of conscience hold it that I call \\n Her love for whose dear love I rise and fall.\"\n",
    "\n",
    "tokenizer = Tokenizer()\n",
    "corpus = data.lower().split(\"\\n\")\n",
    "\n",
    "tokenizer.fit_on_texts(corpus)\n",
    "total_words = len(tokenizer.word_index) + 1 # 1 is addwed to consider out of vocabulary word\n",
    "\n",
    "print(tokenizer.word_index)\n",
    "print(\"Corpos length:\", total_words)"
   ]
  },
  {
   "cell_type": "markdown",
   "metadata": {},
   "source": [
    "### b) Create n grams from the sequence"
   ]
  },
  {
   "cell_type": "code",
   "execution_count": 3,
   "metadata": {
    "scrolled": true
   },
   "outputs": [
    {
     "name": "stdout",
     "output_type": "stream",
     "text": [
      "Sentence token: [3, 4, 5, 6, 7, 8, 9, 1, 10]\n",
      "[3, 4]\n",
      "[3, 4, 5]\n",
      "[3, 4, 5, 6]\n",
      "[3, 4, 5, 6, 7]\n",
      "[3, 4, 5, 6, 7, 8]\n",
      "[3, 4, 5, 6, 7, 8, 9]\n",
      "[3, 4, 5, 6, 7, 8, 9, 1]\n",
      "[3, 4, 5, 6, 7, 8, 9, 1, 10]\n",
      "Sentence token: [11, 2, 12, 13, 14, 2, 1, 15, 16, 17]\n",
      "[11, 2]\n",
      "[11, 2, 12]\n",
      "[11, 2, 12, 13]\n",
      "[11, 2, 12, 13, 14]\n",
      "[11, 2, 12, 13, 14, 2]\n",
      "[11, 2, 12, 13, 14, 2, 1]\n",
      "[11, 2, 12, 13, 14, 2, 1, 15]\n",
      "[11, 2, 12, 13, 14, 2, 1, 15, 16]\n",
      "[11, 2, 12, 13, 14, 2, 1, 15, 16, 17]\n"
     ]
    }
   ],
   "source": [
    "input_sequences = []\n",
    "for line in corpus:\n",
    "    token_list = tokenizer.texts_to_sequences([line])[0]\n",
    "    print(\"Sentence token:\", token_list)\n",
    "    for i in range(1, len(token_list)):\n",
    "        n_gram_sequence = token_list[:i+1]\n",
    "        print(n_gram_sequence)\n",
    "        input_sequences.append(n_gram_sequence)"
   ]
  },
  {
   "cell_type": "markdown",
   "metadata": {},
   "source": [
    "### c) Pad the sequences with the longest sentence in the corpus"
   ]
  },
  {
   "cell_type": "code",
   "execution_count": 4,
   "metadata": {
    "scrolled": true
   },
   "outputs": [
    {
     "name": "stdout",
     "output_type": "stream",
     "text": [
      "[[ 0  0  0  0  0  0  0  0  3  4]\n",
      " [ 0  0  0  0  0  0  0  3  4  5]\n",
      " [ 0  0  0  0  0  0  3  4  5  6]\n",
      " [ 0  0  0  0  0  3  4  5  6  7]\n",
      " [ 0  0  0  0  3  4  5  6  7  8]\n",
      " [ 0  0  0  3  4  5  6  7  8  9]\n",
      " [ 0  0  3  4  5  6  7  8  9  1]\n",
      " [ 0  3  4  5  6  7  8  9  1 10]\n",
      " [ 0  0  0  0  0  0  0  0 11  2]\n",
      " [ 0  0  0  0  0  0  0 11  2 12]\n",
      " [ 0  0  0  0  0  0 11  2 12 13]\n",
      " [ 0  0  0  0  0 11  2 12 13 14]\n",
      " [ 0  0  0  0 11  2 12 13 14  2]\n",
      " [ 0  0  0 11  2 12 13 14  2  1]\n",
      " [ 0  0 11  2 12 13 14  2  1 15]\n",
      " [ 0 11  2 12 13 14  2  1 15 16]\n",
      " [11  2 12 13 14  2  1 15 16 17]]\n"
     ]
    }
   ],
   "source": [
    "# Find length of longest sentence in the corpus\n",
    "max_sequence_len = max([len(x) for x in input_sequences])\n",
    "# pad sequences \n",
    "input_sequences = np.array(pad_sequences(input_sequences, maxlen=max_sequence_len, padding='pre'))\n",
    "print(input_sequences)"
   ]
  },
  {
   "cell_type": "markdown",
   "metadata": {},
   "source": [
    "### d) Create input and output for the sec2sec model"
   ]
  },
  {
   "cell_type": "code",
   "execution_count": 12,
   "metadata": {},
   "outputs": [
    {
     "data": {
      "text/plain": [
       "(array([[ 0,  0,  0,  0,  0,  0,  0,  0,  3],\n",
       "        [ 0,  0,  0,  0,  0,  0,  0,  3,  4],\n",
       "        [ 0,  0,  0,  0,  0,  0,  3,  4,  5],\n",
       "        [ 0,  0,  0,  0,  0,  3,  4,  5,  6],\n",
       "        [ 0,  0,  0,  0,  3,  4,  5,  6,  7],\n",
       "        [ 0,  0,  0,  3,  4,  5,  6,  7,  8],\n",
       "        [ 0,  0,  3,  4,  5,  6,  7,  8,  9],\n",
       "        [ 0,  3,  4,  5,  6,  7,  8,  9,  1],\n",
       "        [ 0,  0,  0,  0,  0,  0,  0,  0, 11],\n",
       "        [ 0,  0,  0,  0,  0,  0,  0, 11,  2],\n",
       "        [ 0,  0,  0,  0,  0,  0, 11,  2, 12],\n",
       "        [ 0,  0,  0,  0,  0, 11,  2, 12, 13],\n",
       "        [ 0,  0,  0,  0, 11,  2, 12, 13, 14],\n",
       "        [ 0,  0,  0, 11,  2, 12, 13, 14,  2],\n",
       "        [ 0,  0, 11,  2, 12, 13, 14,  2,  1],\n",
       "        [ 0, 11,  2, 12, 13, 14,  2,  1, 15],\n",
       "        [11,  2, 12, 13, 14,  2,  1, 15, 16]]),\n",
       " array([ 4,  5,  6,  7,  8,  9,  1, 10,  2, 12, 13, 14,  2,  1, 15, 16, 17]))"
      ]
     },
     "execution_count": 12,
     "metadata": {},
     "output_type": "execute_result"
    }
   ],
   "source": [
    "# create predictors and label\n",
    "predictors, label = input_sequences[:,:-1],input_sequences[:,-1]\n",
    "predictors, label"
   ]
  },
  {
   "cell_type": "markdown",
   "metadata": {},
   "source": [
    "### e) One-hot encoding of labels"
   ]
  },
  {
   "cell_type": "code",
   "execution_count": 13,
   "metadata": {},
   "outputs": [],
   "source": [
    "label = ku.to_categorical(label, num_classes=total_words)"
   ]
  },
  {
   "cell_type": "code",
   "execution_count": 14,
   "metadata": {
    "scrolled": true
   },
   "outputs": [
    {
     "data": {
      "text/plain": [
       "array([[0., 0., 0., 0., 1., 0., 0., 0., 0., 0., 0., 0., 0., 0., 0., 0.,\n",
       "        0., 0.],\n",
       "       [0., 0., 0., 0., 0., 1., 0., 0., 0., 0., 0., 0., 0., 0., 0., 0.,\n",
       "        0., 0.],\n",
       "       [0., 0., 0., 0., 0., 0., 1., 0., 0., 0., 0., 0., 0., 0., 0., 0.,\n",
       "        0., 0.],\n",
       "       [0., 0., 0., 0., 0., 0., 0., 1., 0., 0., 0., 0., 0., 0., 0., 0.,\n",
       "        0., 0.],\n",
       "       [0., 0., 0., 0., 0., 0., 0., 0., 1., 0., 0., 0., 0., 0., 0., 0.,\n",
       "        0., 0.]], dtype=float32)"
      ]
     },
     "execution_count": 14,
     "metadata": {},
     "output_type": "execute_result"
    }
   ],
   "source": [
    "label[:5]"
   ]
  },
  {
   "cell_type": "markdown",
   "metadata": {},
   "source": [
    "## Working on real data"
   ]
  },
  {
   "cell_type": "markdown",
   "metadata": {},
   "source": [
    "get data from https://storage.googleapis.com/laurencemoroney-blog.appspot.com/sonnets.txt"
   ]
  },
  {
   "cell_type": "markdown",
   "metadata": {},
   "source": [
    "### Create input and output for the data"
   ]
  },
  {
   "cell_type": "code",
   "execution_count": 15,
   "metadata": {
    "colab": {},
    "colab_type": "code",
    "id": "PRnDnCW-Z7qv"
   },
   "outputs": [],
   "source": [
    "tokenizer = Tokenizer()\n",
    "data = open('sonnets.txt').read()\n",
    "\n",
    "corpus = data.lower().split(\"\\n\")\n",
    "\n",
    "\n",
    "tokenizer.fit_on_texts(corpus)\n",
    "total_words = len(tokenizer.word_index) + 1\n",
    "\n",
    "# create input sequences using list of tokens\n",
    "input_sequences = []\n",
    "for line in corpus:\n",
    "    token_list = tokenizer.texts_to_sequences([line])[0]\n",
    "    for i in range(1, len(token_list)):\n",
    "        n_gram_sequence = token_list[:i+1]\n",
    "        input_sequences.append(n_gram_sequence)\n",
    "\n",
    "\n",
    "# pad sequences \n",
    "max_sequence_len = max([len(x) for x in input_sequences])\n",
    "input_sequences = np.array(pad_sequences(input_sequences, maxlen=max_sequence_len, padding='pre'))\n",
    "\n",
    "# create predictors and label\n",
    "predictors, label = input_sequences[:,:-1],input_sequences[:,-1]\n",
    "\n",
    "label = ku.to_categorical(label, num_classes=total_words)"
   ]
  },
  {
   "cell_type": "markdown",
   "metadata": {},
   "source": [
    "### Create model"
   ]
  },
  {
   "cell_type": "code",
   "execution_count": 16,
   "metadata": {
    "colab": {},
    "colab_type": "code",
    "id": "w9vH8Y59ajYL"
   },
   "outputs": [
    {
     "name": "stdout",
     "output_type": "stream",
     "text": [
      "Model: \"sequential\"\n",
      "_________________________________________________________________\n",
      "Layer (type)                 Output Shape              Param #   \n",
      "=================================================================\n",
      "embedding (Embedding)        (None, 10, 100)           321100    \n",
      "_________________________________________________________________\n",
      "bidirectional (Bidirectional (None, 10, 300)           301200    \n",
      "_________________________________________________________________\n",
      "dropout (Dropout)            (None, 10, 300)           0         \n",
      "_________________________________________________________________\n",
      "lstm_1 (LSTM)                (None, 100)               160400    \n",
      "_________________________________________________________________\n",
      "dense (Dense)                (None, 1605)              162105    \n",
      "_________________________________________________________________\n",
      "dense_1 (Dense)              (None, 3211)              5156866   \n",
      "=================================================================\n",
      "Total params: 6,101,671\n",
      "Trainable params: 6,101,671\n",
      "Non-trainable params: 0\n",
      "_________________________________________________________________\n",
      "None\n"
     ]
    }
   ],
   "source": [
    "model = Sequential()\n",
    "model.add(Embedding(total_words, 100, input_length=max_sequence_len-1))\n",
    "model.add(Bidirectional(LSTM(150, return_sequences = True)))\n",
    "model.add(Dropout(0.2))\n",
    "model.add(LSTM(100))\n",
    "model.add(Dense(total_words/2, activation='relu', kernel_regularizer=regularizers.l2(0.01)))\n",
    "model.add(Dense(total_words, activation='softmax'))\n",
    "model.compile(loss='categorical_crossentropy', optimizer='adam', metrics=['accuracy'])\n",
    "print(model.summary())\n"
   ]
  },
  {
   "cell_type": "markdown",
   "metadata": {},
   "source": [
    "### Fit the model"
   ]
  },
  {
   "cell_type": "code",
   "execution_count": 17,
   "metadata": {
    "colab": {},
    "colab_type": "code",
    "id": "AIg2f1HBxqof",
    "scrolled": true
   },
   "outputs": [
    {
     "name": "stdout",
     "output_type": "stream",
     "text": [
      "Train on 15462 samples\n",
      "Epoch 1/100\n",
      "15462/15462 [==============================] - 46s 3ms/sample - loss: 6.9098 - accuracy: 0.0221\n",
      "Epoch 2/100\n",
      "15462/15462 [==============================] - 36s 2ms/sample - loss: 6.5011 - accuracy: 0.0230\n",
      "Epoch 3/100\n",
      "15462/15462 [==============================] - 34s 2ms/sample - loss: 6.4057 - accuracy: 0.0246\n",
      "Epoch 4/100\n",
      "15462/15462 [==============================] - 34s 2ms/sample - loss: 6.2791 - accuracy: 0.0302\n",
      "Epoch 5/100\n",
      "15462/15462 [==============================] - 32s 2ms/sample - loss: 6.1833 - accuracy: 0.0349\n",
      "Epoch 6/100\n",
      "15462/15462 [==============================] - 34s 2ms/sample - loss: 6.1025 - accuracy: 0.0396\n",
      "Epoch 7/100\n",
      "15462/15462 [==============================] - 37s 2ms/sample - loss: 6.0248 - accuracy: 0.0409\n",
      "Epoch 8/100\n",
      "15462/15462 [==============================] - 37s 2ms/sample - loss: 5.9325 - accuracy: 0.0442\n",
      "Epoch 9/100\n",
      "15462/15462 [==============================] - 37s 2ms/sample - loss: 5.8285 - accuracy: 0.0492\n",
      "Epoch 10/100\n",
      "15462/15462 [==============================] - 42s 3ms/sample - loss: 5.7225 - accuracy: 0.0559\n",
      "Epoch 11/100\n",
      "15462/15462 [==============================] - 38s 2ms/sample - loss: 5.6180 - accuracy: 0.0625s - loss: 5.620\n",
      "Epoch 12/100\n",
      "15462/15462 [==============================] - 40s 3ms/sample - loss: 5.5113 - accuracy: 0.0668\n",
      "Epoch 13/100\n",
      "15462/15462 [==============================] - 39s 3ms/sample - loss: 5.4112 - accuracy: 0.0749\n",
      "Epoch 14/100\n",
      "15462/15462 [==============================] - 40s 3ms/sample - loss: 5.3063 - accuracy: 0.0791\n",
      "Epoch 15/100\n",
      "15462/15462 [==============================] - 39s 3ms/sample - loss: 5.1999 - accuracy: 0.0874\n",
      "Epoch 16/100\n",
      "15462/15462 [==============================] - 38s 2ms/sample - loss: 5.0989 - accuracy: 0.0950\n",
      "Epoch 17/100\n",
      "15462/15462 [==============================] - 33s 2ms/sample - loss: 4.9969 - accuracy: 0.1004\n",
      "Epoch 18/100\n",
      "15462/15462 [==============================] - 34s 2ms/sample - loss: 4.9011 - accuracy: 0.1118\n",
      "Epoch 19/100\n",
      "15462/15462 [==============================] - 35s 2ms/sample - loss: 4.7980 - accuracy: 0.1173\n",
      "Epoch 20/100\n",
      "15462/15462 [==============================] - 35s 2ms/sample - loss: 4.7003 - accuracy: 0.1320\n",
      "Epoch 21/100\n",
      "15462/15462 [==============================] - 34s 2ms/sample - loss: 4.6039 - accuracy: 0.1398\n",
      "Epoch 22/100\n",
      "15462/15462 [==============================] - 42s 3ms/sample - loss: 4.5088 - accuracy: 0.1504\n",
      "Epoch 23/100\n",
      "15462/15462 [==============================] - 52s 3ms/sample - loss: 4.4083 - accuracy: 0.1613\n",
      "Epoch 24/100\n",
      "15462/15462 [==============================] - 51s 3ms/sample - loss: 4.3145 - accuracy: 0.1733\n",
      "Epoch 25/100\n",
      "15462/15462 [==============================] - 50s 3ms/sample - loss: 4.2121 - accuracy: 0.1834\n",
      "Epoch 26/100\n",
      "15462/15462 [==============================] - 50s 3ms/sample - loss: 4.1139 - accuracy: 0.1981\n",
      "Epoch 27/100\n",
      "15462/15462 [==============================] - 49s 3ms/sample - loss: 4.0178 - accuracy: 0.2107\n",
      "Epoch 28/100\n",
      "15462/15462 [==============================] - 47s 3ms/sample - loss: 3.9202 - accuracy: 0.2266\n",
      "Epoch 29/100\n",
      "15462/15462 [==============================] - 48s 3ms/sample - loss: 3.8267 - accuracy: 0.2423\n",
      "Epoch 30/100\n",
      "15462/15462 [==============================] - 52s 3ms/sample - loss: 3.7174 - accuracy: 0.2604s - loss: 3\n",
      "Epoch 31/100\n",
      "15462/15462 [==============================] - 50s 3ms/sample - loss: 3.6349 - accuracy: 0.2765\n",
      "Epoch 32/100\n",
      "15462/15462 [==============================] - 51s 3ms/sample - loss: 3.5493 - accuracy: 0.2894\n",
      "Epoch 33/100\n",
      "15462/15462 [==============================] - 44s 3ms/sample - loss: 3.4621 - accuracy: 0.3118s - loss: 3.4624 - \n",
      "Epoch 34/100\n",
      "15462/15462 [==============================] - 45s 3ms/sample - loss: 3.3720 - accuracy: 0.3331\n",
      "Epoch 35/100\n",
      "15462/15462 [==============================] - 47s 3ms/sample - loss: 3.2893 - accuracy: 0.3479\n",
      "Epoch 36/100\n",
      "15462/15462 [==============================] - 47s 3ms/sample - loss: 3.2057 - accuracy: 0.3682\n",
      "Epoch 37/100\n",
      "15462/15462 [==============================] - 43s 3ms/sample - loss: 3.1226 - accuracy: 0.3856\n",
      "Epoch 38/100\n",
      "15462/15462 [==============================] - 45s 3ms/sample - loss: 3.0552 - accuracy: 0.4038\n",
      "Epoch 39/100\n",
      "15462/15462 [==============================] - 45s 3ms/sample - loss: 2.9838 - accuracy: 0.4177\n",
      "Epoch 40/100\n",
      "15462/15462 [==============================] - 43s 3ms/sample - loss: 2.9082 - accuracy: 0.4362\n",
      "Epoch 41/100\n",
      "15462/15462 [==============================] - 43s 3ms/sample - loss: 2.8443 - accuracy: 0.4516\n",
      "Epoch 42/100\n",
      "15462/15462 [==============================] - 44s 3ms/sample - loss: 2.7791 - accuracy: 0.4663\n",
      "Epoch 43/100\n",
      "15462/15462 [==============================] - 46s 3ms/sample - loss: 2.7107 - accuracy: 0.4809\n",
      "Epoch 44/100\n",
      "15462/15462 [==============================] - 44s 3ms/sample - loss: 2.6599 - accuracy: 0.4909\n",
      "Epoch 45/100\n",
      "15462/15462 [==============================] - 48s 3ms/sample - loss: 2.6001 - accuracy: 0.5068s - loss: 2\n",
      "Epoch 46/100\n",
      "15462/15462 [==============================] - 45s 3ms/sample - loss: 2.5347 - accuracy: 0.5232\n",
      "Epoch 47/100\n",
      "15462/15462 [==============================] - 44s 3ms/sample - loss: 2.4782 - accuracy: 0.5327s - los - ETA: 0s - loss: 2.4\n",
      "Epoch 48/100\n",
      "15462/15462 [==============================] - 45s 3ms/sample - loss: 2.4300 - accuracy: 0.5436\n",
      "Epoch 49/100\n",
      "15462/15462 [==============================] - 45s 3ms/sample - loss: 2.3791 - accuracy: 0.5567\n",
      "Epoch 50/100\n",
      "15462/15462 [==============================] - 45s 3ms/sample - loss: 2.3331 - accuracy: 0.5612\n",
      "Epoch 51/100\n",
      "15462/15462 [==============================] - 43s 3ms/sample - loss: 2.2812 - accuracy: 0.5758\n",
      "Epoch 52/100\n",
      "15462/15462 [==============================] - 44s 3ms/sample - loss: 2.2356 - accuracy: 0.5871\n",
      "Epoch 53/100\n",
      "15462/15462 [==============================] - 43s 3ms/sample - loss: 2.1929 - accuracy: 0.5964\n",
      "Epoch 54/100\n",
      "15462/15462 [==============================] - 45s 3ms/sample - loss: 2.1484 - accuracy: 0.6054\n",
      "Epoch 55/100\n",
      "15462/15462 [==============================] - 43s 3ms/sample - loss: 2.1084 - accuracy: 0.6152s - loss: 2.1064 \n",
      "Epoch 56/100\n",
      "15462/15462 [==============================] - 44s 3ms/sample - loss: 2.0655 - accuracy: 0.6209\n",
      "Epoch 57/100\n",
      "15462/15462 [==============================] - 43s 3ms/sample - loss: 2.0428 - accuracy: 0.6239\n",
      "Epoch 58/100\n",
      "15462/15462 [==============================] - 43s 3ms/sample - loss: 1.9784 - accuracy: 0.6416\n",
      "Epoch 59/100\n",
      "15462/15462 [==============================] - 44s 3ms/sample - loss: 1.9514 - accuracy: 0.6469\n",
      "Epoch 60/100\n",
      "15462/15462 [==============================] - 43s 3ms/sample - loss: 1.9230 - accuracy: 0.6564\n",
      "Epoch 61/100\n",
      "15462/15462 [==============================] - 44s 3ms/sample - loss: 1.8818 - accuracy: 0.6625\n",
      "Epoch 62/100\n",
      "15462/15462 [==============================] - 43s 3ms/sample - loss: 1.8498 - accuracy: 0.6662\n",
      "Epoch 63/100\n",
      "15462/15462 [==============================] - 42s 3ms/sample - loss: 1.8109 - accuracy: 0.6768\n",
      "Epoch 64/100\n",
      "15462/15462 [==============================] - 42s 3ms/sample - loss: 1.7886 - accuracy: 0.6812s - loss: 1.784 - ETA: 1s\n",
      "Epoch 65/100\n",
      "15462/15462 [==============================] - 42s 3ms/sample - loss: 1.7661 - accuracy: 0.6845\n",
      "Epoch 66/100\n",
      "15462/15462 [==============================] - 42s 3ms/sample - loss: 1.7273 - accuracy: 0.6960\n",
      "Epoch 67/100\n",
      "15462/15462 [==============================] - 42s 3ms/sample - loss: 1.7049 - accuracy: 0.6969\n",
      "Epoch 68/100\n",
      "15462/15462 [==============================] - 42s 3ms/sample - loss: 1.6853 - accuracy: 0.6991\n",
      "Epoch 69/100\n",
      "15462/15462 [==============================] - 42s 3ms/sample - loss: 1.6542 - accuracy: 0.7068\n",
      "Epoch 70/100\n",
      "15462/15462 [==============================] - 42s 3ms/sample - loss: 1.6311 - accuracy: 0.7119\n",
      "Epoch 71/100\n",
      "15462/15462 [==============================] - 42s 3ms/sample - loss: 1.6022 - accuracy: 0.7192\n",
      "Epoch 72/100\n",
      "15462/15462 [==============================] - 42s 3ms/sample - loss: 1.5676 - accuracy: 0.7247\n",
      "Epoch 73/100\n",
      "15462/15462 [==============================] - 42s 3ms/sample - loss: 1.5550 - accuracy: 0.7283s - loss: 1.5554 - accuracy: 0.\n",
      "Epoch 74/100\n",
      "15462/15462 [==============================] - 42s 3ms/sample - loss: 1.5418 - accuracy: 0.7313s - loss: 1.5417 - accuracy: 0.73\n",
      "Epoch 75/100\n",
      "15462/15462 [==============================] - 42s 3ms/sample - loss: 1.5198 - accuracy: 0.7361\n",
      "Epoch 76/100\n",
      "15462/15462 [==============================] - 42s 3ms/sample - loss: 1.4967 - accuracy: 0.7400s - loss: 1.4992 - \n",
      "Epoch 77/100\n",
      "15462/15462 [==============================] - 41s 3ms/sample - loss: 1.4616 - accuracy: 0.7471\n",
      "Epoch 78/100\n",
      "15462/15462 [==============================] - 42s 3ms/sample - loss: 1.4551 - accuracy: 0.7453s - loss: 1.4540 - accura\n",
      "Epoch 79/100\n",
      "15462/15462 [==============================] - 42s 3ms/sample - loss: 1.4371 - accuracy: 0.7497\n",
      "Epoch 80/100\n",
      "15462/15462 [==============================] - 42s 3ms/sample - loss: 1.4172 - accuracy: 0.7559\n",
      "Epoch 81/100\n",
      "15462/15462 [==============================] - 42s 3ms/sample - loss: 1.4016 - accuracy: 0.7573\n",
      "Epoch 82/100\n",
      "15462/15462 [==============================] - 42s 3ms/sample - loss: 1.3680 - accuracy: 0.7626\n",
      "Epoch 83/100\n",
      "15462/15462 [==============================] - 42s 3ms/sample - loss: 1.3586 - accuracy: 0.7669\n",
      "Epoch 84/100\n",
      "15462/15462 [==============================] - 42s 3ms/sample - loss: 1.3522 - accuracy: 0.7620\n",
      "Epoch 85/100\n",
      "15462/15462 [==============================] - 42s 3ms/sample - loss: 1.3329 - accuracy: 0.7707\n",
      "Epoch 86/100\n",
      "15462/15462 [==============================] - 42s 3ms/sample - loss: 1.3225 - accuracy: 0.7735\n",
      "Epoch 87/100\n",
      "15462/15462 [==============================] - 42s 3ms/sample - loss: 1.2923 - accuracy: 0.7784\n",
      "Epoch 88/100\n",
      "15462/15462 [==============================] - 43s 3ms/sample - loss: 1.2852 - accuracy: 0.7781\n",
      "Epoch 89/100\n",
      "15462/15462 [==============================] - 43s 3ms/sample - loss: 1.2905 - accuracy: 0.7735\n",
      "Epoch 90/100\n",
      "15462/15462 [==============================] - 43s 3ms/sample - loss: 1.2701 - accuracy: 0.7796\n",
      "Epoch 91/100\n",
      "15462/15462 [==============================] - 43s 3ms/sample - loss: 1.2600 - accuracy: 0.7795\n",
      "Epoch 92/100\n",
      "15462/15462 [==============================] - 43s 3ms/sample - loss: 1.2372 - accuracy: 0.7837\n",
      "Epoch 93/100\n",
      "15462/15462 [==============================] - 43s 3ms/sample - loss: 1.2371 - accuracy: 0.7831\n",
      "Epoch 94/100\n",
      "15462/15462 [==============================] - 43s 3ms/sample - loss: 1.2221 - accuracy: 0.7841\n",
      "Epoch 95/100\n",
      "15462/15462 [==============================] - 42s 3ms/sample - loss: 1.2004 - accuracy: 0.7895\n",
      "Epoch 96/100\n",
      "15462/15462 [==============================] - 42s 3ms/sample - loss: 1.1870 - accuracy: 0.7934\n",
      "Epoch 97/100\n",
      "15462/15462 [==============================] - 42s 3ms/sample - loss: 1.1828 - accuracy: 0.7906\n",
      "Epoch 98/100\n",
      "15462/15462 [==============================] - 42s 3ms/sample - loss: 1.1766 - accuracy: 0.7928\n",
      "Epoch 99/100\n",
      "15462/15462 [==============================] - 42s 3ms/sample - loss: 1.1656 - accuracy: 0.7971\n",
      "Epoch 100/100\n",
      "15462/15462 [==============================] - 42s 3ms/sample - loss: 1.1516 - accuracy: 0.7954\n"
     ]
    }
   ],
   "source": [
    " history = model.fit(predictors, label, epochs=100, verbose=1)"
   ]
  },
  {
   "cell_type": "code",
   "execution_count": 18,
   "metadata": {
    "colab": {},
    "colab_type": "code",
    "id": "1fXTEO3GJ282"
   },
   "outputs": [
    {
     "data": {
      "image/png": "[encoded data removed]",
      "text/plain": [
       "<Figure size 432x288 with 1 Axes>"
      ]
     },
     "metadata": {
      "needs_background": "light"
     },
     "output_type": "display_data"
    },
    {
     "data": {
      "image/png": "[encoded data removed]",
      "text/plain": [
       "<Figure size 432x288 with 1 Axes>"
      ]
     },
     "metadata": {
      "needs_background": "light"
     },
     "output_type": "display_data"
    }
   ],
   "source": [
    "import matplotlib.pyplot as plt\n",
    "acc = history.history['accuracy']\n",
    "loss = history.history['loss']\n",
    "\n",
    "epochs = range(len(acc))\n",
    "\n",
    "plt.plot(epochs, acc, 'b', label='Training accuracy')\n",
    "plt.title('Training accuracy')\n",
    "\n",
    "plt.figure()\n",
    "\n",
    "plt.plot(epochs, loss, 'b', label='Training Loss')\n",
    "plt.title('Training loss')\n",
    "plt.legend()\n",
    "\n",
    "plt.show()"
   ]
  },
  {
   "cell_type": "markdown",
   "metadata": {},
   "source": [
    "### Predict the text"
   ]
  },
  {
   "cell_type": "code",
   "execution_count": 19,
   "metadata": {
    "colab": {},
    "colab_type": "code",
    "id": "6Vc6PHgxa6Hm"
   },
   "outputs": [
    {
     "name": "stdout",
     "output_type": "stream",
     "text": [
      "Help me Obi Wan Kenobi, you're my only hope with some place on meetness meetness brow part go and arising dumb tongue arising tongue tongue tongue tongue you will are seen his compeers on scope hath dote curious days go bettering days go new days go pain ' go well well strife lease did lie me so great part bright thine ' lies thee live great cause of me in this age be bright bring foes none groan ' live none chary dearer dearer seen groan prove thee back seen kill'd strive to prove twain decay go back arising bow expire green me live bright bright show thee thine\n"
     ]
    }
   ],
   "source": [
    "seed_text = \"Help me Obi Wan Kenobi, you're my only hope\"\n",
    "next_words = 100\n",
    "  \n",
    "for _ in range(next_words):\n",
    "    token_list = tokenizer.texts_to_sequences([seed_text])[0]\n",
    "    token_list = pad_sequences([token_list], maxlen=max_sequence_len-1, padding='pre')\n",
    "    predicted = model.predict_classes(token_list, verbose=0)\n",
    "    output_word = \"\"\n",
    "    for word, index in tokenizer.word_index.items():\n",
    "        if index == predicted:\n",
    "            output_word = word\n",
    "            break\n",
    "    seed_text += \" \" + output_word\n",
    "print(seed_text)"
   ]
  },
  {
   "cell_type": "code",
   "execution_count": null,
   "metadata": {},
   "outputs": [],
   "source": []
  }
 ],
 "metadata": {
  "accelerator": "GPU",
  "colab": {
   "name": "NLP_Week4_Exercise_Shakespeare_Answer.ipynb",
   "provenance": [],
   "toc_visible": true
  },
  "kernelspec": {
   "display_name": "Python 3",
   "language": "python",
   "name": "python3"
  },
  "language_info": {
   "codemirror_mode": {
    "name": "ipython",
    "version": 3
   },
   "file_extension": ".py",
   "mimetype": "text/x-python",
   "name": "python",
   "nbconvert_exporter": "python",
   "pygments_lexer": "ipython3",
   "version": "3.7.6"
  }
 },
 "nbformat": 4,
 "nbformat_minor": 1
}
