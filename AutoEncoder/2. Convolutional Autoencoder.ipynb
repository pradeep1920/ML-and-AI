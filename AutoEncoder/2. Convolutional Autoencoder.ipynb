{
 "cells": [
  {
   "cell_type": "markdown",
   "metadata": {},
   "source": [
    "### Import Libraries"
   ]
  },
  {
   "cell_type": "code",
   "execution_count": 1,
   "metadata": {
    "scrolled": true
   },
   "outputs": [
    {
     "name": "stderr",
     "output_type": "stream",
     "text": [
      "Using TensorFlow backend.\n"
     ]
    }
   ],
   "source": [
    "from keras.datasets import mnist\n",
    "from keras.layers import Input, Dense, Conv2D, MaxPooling2D, UpSampling2D\n",
    "from keras.models import Model\n",
    "\n",
    "import numpy as np\n",
    "import matplotlib.pyplot as plt\n",
    "\n",
    "%matplotlib inline"
   ]
  },
  {
   "cell_type": "markdown",
   "metadata": {},
   "source": [
    "### Load the dataset"
   ]
  },
  {
   "cell_type": "code",
   "execution_count": 2,
   "metadata": {},
   "outputs": [],
   "source": [
    "(x_train, _), (x_test, _) = mnist.load_data()\n",
    "\n",
    "x_train = x_train.astype('float32') / 255.\n",
    "x_test = x_test.astype('float32') / 255.\n",
    "x_train = np.reshape(x_train, (len(x_train), 28, 28, 1))\n",
    "x_test = np.reshape(x_test, (len(x_test), 28, 28, 1)) "
   ]
  },
  {
   "cell_type": "markdown",
   "metadata": {},
   "source": [
    "### Create the model"
   ]
  },
  {
   "cell_type": "code",
   "execution_count": 3,
   "metadata": {},
   "outputs": [
    {
     "name": "stdout",
     "output_type": "stream",
     "text": [
      "Model: \"model_1\"\n",
      "_________________________________________________________________\n",
      "Layer (type)                 Output Shape              Param #   \n",
      "=================================================================\n",
      "input_1 (InputLayer)         (None, 28, 28, 1)         0         \n",
      "_________________________________________________________________\n",
      "conv2d_1 (Conv2D)            (None, 28, 28, 16)        160       \n",
      "_________________________________________________________________\n",
      "max_pooling2d_1 (MaxPooling2 (None, 14, 14, 16)        0         \n",
      "_________________________________________________________________\n",
      "conv2d_2 (Conv2D)            (None, 14, 14, 8)         1160      \n",
      "_________________________________________________________________\n",
      "max_pooling2d_2 (MaxPooling2 (None, 7, 7, 8)           0         \n",
      "_________________________________________________________________\n",
      "conv2d_3 (Conv2D)            (None, 7, 7, 8)           584       \n",
      "_________________________________________________________________\n",
      "max_pooling2d_3 (MaxPooling2 (None, 4, 4, 8)           0         \n",
      "_________________________________________________________________\n",
      "conv2d_4 (Conv2D)            (None, 4, 4, 8)           584       \n",
      "_________________________________________________________________\n",
      "up_sampling2d_1 (UpSampling2 (None, 8, 8, 8)           0         \n",
      "_________________________________________________________________\n",
      "conv2d_5 (Conv2D)            (None, 8, 8, 8)           584       \n",
      "_________________________________________________________________\n",
      "up_sampling2d_2 (UpSampling2 (None, 16, 16, 8)         0         \n",
      "_________________________________________________________________\n",
      "conv2d_6 (Conv2D)            (None, 14, 14, 16)        1168      \n",
      "_________________________________________________________________\n",
      "up_sampling2d_3 (UpSampling2 (None, 28, 28, 16)        0         \n",
      "_________________________________________________________________\n",
      "conv2d_7 (Conv2D)            (None, 28, 28, 1)         145       \n",
      "=================================================================\n",
      "Total params: 4,385\n",
      "Trainable params: 4,385\n",
      "Non-trainable params: 0\n",
      "_________________________________________________________________\n"
     ]
    }
   ],
   "source": [
    "input_img = Input(shape=(28, 28, 1)) \n",
    "\n",
    "x = Conv2D(16, (3, 3), activation='relu', padding='same')(input_img)\n",
    "x = MaxPooling2D((2, 2), padding='same')(x)\n",
    "x = Conv2D(8, (3, 3), activation='relu', padding='same')(x)\n",
    "x = MaxPooling2D((2, 2), padding='same')(x)\n",
    "x = Conv2D(8, (3, 3), activation='relu', padding='same')(x)\n",
    "encoded = MaxPooling2D((2, 2), padding='same')(x)\n",
    "\n",
    "# at this point the representation is (4, 4, 8) i.e. 128-dimensional\n",
    "\n",
    "x = Conv2D(8, (3, 3), activation='relu', padding='same')(encoded)\n",
    "x = UpSampling2D((2, 2))(x)\n",
    "x = Conv2D(8, (3, 3), activation='relu', padding='same')(x)\n",
    "x = UpSampling2D((2, 2))(x)\n",
    "x = Conv2D(16, (3, 3), activation='relu')(x)\n",
    "x = UpSampling2D((2, 2))(x)\n",
    "decoded = Conv2D(1, (3, 3), activation='sigmoid', padding='same')(x)\n",
    "\n",
    "autoencoder = Model(input_img, decoded)\n",
    "autoencoder.compile(optimizer='adam', loss='binary_crossentropy')\n",
    "autoencoder.summary()"
   ]
  },
  {
   "cell_type": "markdown",
   "metadata": {},
   "source": [
    "### Train the model"
   ]
  },
  {
   "cell_type": "code",
   "execution_count": 4,
   "metadata": {},
   "outputs": [
    {
     "name": "stdout",
     "output_type": "stream",
     "text": [
      "Train on 60000 samples, validate on 10000 samples\n",
      "Epoch 1/50\n",
      "60000/60000 [==============================] - 53s 891us/step - loss: 0.2110 - val_loss: 0.1425\n",
      "Epoch 2/50\n",
      "60000/60000 [==============================] - 52s 873us/step - loss: 0.1313 - val_loss: 0.1227\n",
      "Epoch 3/50\n",
      "60000/60000 [==============================] - 72s 1ms/step - loss: 0.1196 - val_loss: 0.1152\n",
      "Epoch 4/50\n",
      "60000/60000 [==============================] - 78s 1ms/step - loss: 0.1138 - val_loss: 0.1103\n",
      "Epoch 5/50\n",
      "60000/60000 [==============================] - 59s 984us/step - loss: 0.1103 - val_loss: 0.1076\n",
      "Epoch 6/50\n",
      "60000/60000 [==============================] - 47s 780us/step - loss: 0.1079 - val_loss: 0.1056\n",
      "Epoch 7/50\n",
      "60000/60000 [==============================] - 46s 774us/step - loss: 0.1061 - val_loss: 0.1041\n",
      "Epoch 8/50\n",
      "60000/60000 [==============================] - 47s 775us/step - loss: 0.1046 - val_loss: 0.1027\n",
      "Epoch 9/50\n",
      "60000/60000 [==============================] - 46s 774us/step - loss: 0.1034 - val_loss: 0.1015\n",
      "Epoch 10/50\n",
      "60000/60000 [==============================] - 47s 775us/step - loss: 0.1024 - val_loss: 0.1009\n",
      "Epoch 11/50\n",
      "60000/60000 [==============================] - 47s 775us/step - loss: 0.1015 - val_loss: 0.0996\n",
      "Epoch 12/50\n",
      "60000/60000 [==============================] - 46s 761us/step - loss: 0.1006 - val_loss: 0.0992\n",
      "Epoch 13/50\n",
      "60000/60000 [==============================] - 45s 744us/step - loss: 0.0999 - val_loss: 0.0985\n",
      "Epoch 14/50\n",
      "60000/60000 [==============================] - 45s 751us/step - loss: 0.0992 - val_loss: 0.0980\n",
      "Epoch 15/50\n",
      "60000/60000 [==============================] - 45s 756us/step - loss: 0.0986 - val_loss: 0.0970\n",
      "Epoch 16/50\n",
      "60000/60000 [==============================] - 45s 748us/step - loss: 0.0981 - val_loss: 0.0965\n",
      "Epoch 17/50\n",
      "60000/60000 [==============================] - 45s 744us/step - loss: 0.0977 - val_loss: 0.0961\n",
      "Epoch 18/50\n",
      "60000/60000 [==============================] - 45s 747us/step - loss: 0.0972 - val_loss: 0.0961\n",
      "Epoch 19/50\n",
      "60000/60000 [==============================] - 45s 745us/step - loss: 0.0969 - val_loss: 0.0953\n",
      "Epoch 20/50\n",
      "60000/60000 [==============================] - 45s 745us/step - loss: 0.0966 - val_loss: 0.0953\n",
      "Epoch 21/50\n",
      "60000/60000 [==============================] - 45s 751us/step - loss: 0.0962 - val_loss: 0.0948\n",
      "Epoch 22/50\n",
      "60000/60000 [==============================] - 44s 741us/step - loss: 0.0959 - val_loss: 0.0946\n",
      "Epoch 23/50\n",
      "60000/60000 [==============================] - 45s 743us/step - loss: 0.0957 - val_loss: 0.0942\n",
      "Epoch 24/50\n",
      "60000/60000 [==============================] - 45s 747us/step - loss: 0.0954 - val_loss: 0.0940\n",
      "Epoch 25/50\n",
      "60000/60000 [==============================] - 45s 745us/step - loss: 0.0952 - val_loss: 0.0939\n",
      "Epoch 26/50\n",
      "60000/60000 [==============================] - 45s 747us/step - loss: 0.0950 - val_loss: 0.0935\n",
      "Epoch 27/50\n",
      "60000/60000 [==============================] - 45s 748us/step - loss: 0.0948 - val_loss: 0.0935\n",
      "Epoch 28/50\n",
      "60000/60000 [==============================] - 45s 746us/step - loss: 0.0946 - val_loss: 0.0932\n",
      "Epoch 29/50\n",
      "60000/60000 [==============================] - 45s 745us/step - loss: 0.0943 - val_loss: 0.0932\n",
      "Epoch 30/50\n",
      "60000/60000 [==============================] - 45s 744us/step - loss: 0.0941 - val_loss: 0.0927\n",
      "Epoch 31/50\n",
      "60000/60000 [==============================] - 45s 744us/step - loss: 0.0940 - val_loss: 0.0928\n",
      "Epoch 32/50\n",
      "60000/60000 [==============================] - 45s 743us/step - loss: 0.0939 - val_loss: 0.0926\n",
      "Epoch 33/50\n",
      "60000/60000 [==============================] - 45s 744us/step - loss: 0.0937 - val_loss: 0.0928\n",
      "Epoch 34/50\n",
      "60000/60000 [==============================] - 45s 744us/step - loss: 0.0935 - val_loss: 0.0924\n",
      "Epoch 35/50\n",
      "60000/60000 [==============================] - 45s 744us/step - loss: 0.0934 - val_loss: 0.0921\n",
      "Epoch 36/50\n",
      "60000/60000 [==============================] - 45s 743us/step - loss: 0.0933 - val_loss: 0.0924\n",
      "Epoch 37/50\n",
      "60000/60000 [==============================] - 45s 744us/step - loss: 0.0931 - val_loss: 0.0920\n",
      "Epoch 38/50\n",
      "60000/60000 [==============================] - 45s 744us/step - loss: 0.0931 - val_loss: 0.0922\n",
      "Epoch 39/50\n",
      "60000/60000 [==============================] - 45s 746us/step - loss: 0.0930 - val_loss: 0.0917\n",
      "Epoch 40/50\n",
      "60000/60000 [==============================] - 45s 744us/step - loss: 0.0928 - val_loss: 0.0917\n",
      "Epoch 41/50\n",
      "60000/60000 [==============================] - 45s 744us/step - loss: 0.0927 - val_loss: 0.0918\n",
      "Epoch 42/50\n",
      "60000/60000 [==============================] - 45s 749us/step - loss: 0.0926 - val_loss: 0.0914\n",
      "Epoch 43/50\n",
      "60000/60000 [==============================] - 45s 744us/step - loss: 0.0926 - val_loss: 0.0916\n",
      "Epoch 44/50\n",
      "60000/60000 [==============================] - 45s 744us/step - loss: 0.0925 - val_loss: 0.0912\n",
      "Epoch 45/50\n",
      "60000/60000 [==============================] - 46s 765us/step - loss: 0.0924 - val_loss: 0.0915\n",
      "Epoch 46/50\n",
      "60000/60000 [==============================] - 45s 748us/step - loss: 0.0923 - val_loss: 0.0913\n",
      "Epoch 47/50\n",
      "60000/60000 [==============================] - 45s 746us/step - loss: 0.0922 - val_loss: 0.0912\n",
      "Epoch 48/50\n",
      "60000/60000 [==============================] - 45s 744us/step - loss: 0.0921 - val_loss: 0.0908\n",
      "Epoch 49/50\n",
      "60000/60000 [==============================] - 45s 748us/step - loss: 0.0920 - val_loss: 0.0907\n",
      "Epoch 50/50\n",
      "60000/60000 [==============================] - 45s 752us/step - loss: 0.0919 - val_loss: 0.0907\n"
     ]
    },
    {
     "data": {
      "text/plain": [
       "<keras.callbacks.callbacks.History at 0x215f1a3b208>"
      ]
     },
     "execution_count": 4,
     "metadata": {},
     "output_type": "execute_result"
    }
   ],
   "source": [
    "autoencoder.fit(x_train, x_train,\n",
    "                epochs=50,\n",
    "                batch_size=128,\n",
    "                shuffle=True,\n",
    "                validation_data=(x_test, x_test))"
   ]
  },
  {
   "cell_type": "markdown",
   "metadata": {},
   "source": [
    "### Plot the losses"
   ]
  },
  {
   "cell_type": "code",
   "execution_count": 5,
   "metadata": {},
   "outputs": [
    {
     "data": {
      "image/png": "[encoded data removed]",
      "text/plain": [
       "<Figure size 720x576 with 1 Axes>"
      ]
     },
     "metadata": {
      "needs_background": "light"
     },
     "output_type": "display_data"
    }
   ],
   "source": [
    "epochs = 50\n",
    "plt.figure(figsize=(10, 8))\n",
    "plt.plot(np.arange(1, epochs + 1), autoencoder.history.history['loss'])\n",
    "plt.plot(np.arange(1, epochs + 1), autoencoder.history.history['val_loss'])\n",
    "plt.xlabel('Epochs')\n",
    "plt.ylabel('Loss')\n",
    "plt.show()"
   ]
  },
  {
   "cell_type": "markdown",
   "metadata": {},
   "source": [
    "### Plot original and reconstructed image"
   ]
  },
  {
   "cell_type": "code",
   "execution_count": 7,
   "metadata": {},
   "outputs": [
    {
     "data": {
      "image/png": "[encoded data removed]",
      "text/plain": [
       "<Figure size 1440x288 with 20 Axes>"
      ]
     },
     "metadata": {
      "needs_background": "light"
     },
     "output_type": "display_data"
    }
   ],
   "source": [
    "decoded_imgs = autoencoder.predict(x_test)\n",
    "\n",
    "n = 10\n",
    "plt.figure(figsize=(20, 4))\n",
    "for i in range(n):\n",
    "    # display original\n",
    "    ax = plt.subplot(2, n, i+1)\n",
    "    plt.imshow(x_test[i].reshape(28, 28))\n",
    "    plt.gray()\n",
    "    ax.get_xaxis().set_visible(False)\n",
    "    ax.get_yaxis().set_visible(False)\n",
    "\n",
    "    # display reconstruction\n",
    "    ax = plt.subplot(2, n, i + n + 1)\n",
    "    plt.imshow(decoded_imgs[i].reshape(28, 28))\n",
    "    plt.gray()\n",
    "    ax.get_xaxis().set_visible(False)\n",
    "    ax.get_yaxis().set_visible(False)\n",
    "plt.show()"
   ]
  },
  {
   "cell_type": "markdown",
   "metadata": {},
   "source": [
    "### Plot the encoded image"
   ]
  },
  {
   "cell_type": "code",
   "execution_count": 11,
   "metadata": {},
   "outputs": [
    {
     "data": {
      "image/png": "[encoded data removed]",
      "text/plain": [
       "<Figure size 1440x576 with 10 Axes>"
      ]
     },
     "metadata": {
      "needs_background": "light"
     },
     "output_type": "display_data"
    }
   ],
   "source": [
    "encoder_model = Model(inputs=autoencoder.inputs, outputs=autoencoder.layers[6].output)\n",
    "encoded_imgs = encoder_model.predict(x_test) \n",
    "\n",
    "\n",
    "n = 10\n",
    "plt.figure(figsize=(20, 8))\n",
    "for i in range(n):\n",
    "    ax = plt.subplot(1, n, i+1)\n",
    "    plt.imshow(encoded_imgs[i].reshape(4, 4 * 8).T)\n",
    "    plt.gray()\n",
    "    ax.get_xaxis().set_visible(False)\n",
    "    ax.get_yaxis().set_visible(False)\n",
    "plt.show()"
   ]
  },
  {
   "cell_type": "markdown",
   "metadata": {},
   "source": []
  }
 ],
 "metadata": {
  "kernelspec": {
   "display_name": "Python 3",
   "language": "python",
   "name": "python3"
  },
  "language_info": {
   "codemirror_mode": {
    "name": "ipython",
    "version": 3
   },
   "file_extension": ".py",
   "mimetype": "text/x-python",
   "name": "python",
   "nbconvert_exporter": "python",
   "pygments_lexer": "ipython3",
   "version": "3.7.6"
  }
 },
 "nbformat": 4,
 "nbformat_minor": 4
}
