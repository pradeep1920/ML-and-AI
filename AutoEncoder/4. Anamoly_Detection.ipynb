{
 "cells": [
  {
   "cell_type": "markdown",
   "metadata": {},
   "source": [
    "# Anamoly Detection using AutoEncoder"
   ]
  },
  {
   "cell_type": "markdown",
   "metadata": {},
   "source": [
    "This code is taken form medium post: https://towardsdatascience.com/a-keras-based-autoencoder-for-anomaly-detection-in-sequences-75337eaed0e5"
   ]
  },
  {
   "cell_type": "code",
   "execution_count": 1,
   "metadata": {},
   "outputs": [],
   "source": [
    "import random\n",
    "import pandas as pd\n",
    "import numpy as np"
   ]
  },
  {
   "cell_type": "code",
   "execution_count": 2,
   "metadata": {},
   "outputs": [],
   "source": [
    "import matplotlib.pyplot as plt\n",
    "import seaborn as sns\n",
    "%matplotlib inline\n",
    "from pylab import rcParams\n",
    "\n",
    "rcParams['figure.figsize'] = 12, 6\n",
    "sns.set(style='whitegrid', palette='muted', font_scale=1.5)\n"
   ]
  },
  {
   "cell_type": "markdown",
   "metadata": {},
   "source": [
    "### Generate Sequence Data"
   ]
  },
  {
   "cell_type": "code",
   "execution_count": 3,
   "metadata": {},
   "outputs": [
    {
     "name": "stdout",
     "output_type": "stream",
     "text": [
      "EBBC2PZL\n"
     ]
    }
   ],
   "source": [
    "first_letters =  'ABCDEF'\n",
    "second_numbers = '120'\n",
    "last_letters = 'QWOPZXML'\n",
    "\n",
    "# returns a string of the following format: [4 letters A-F][1 digit 0-2][3 letters QWOPZXML]\n",
    "def get_random_string():\n",
    "    str1 = ''.join(random.choice(first_letters) for i in range(4))\n",
    "    str2 = random.choice(second_numbers)\n",
    "    str3 = ''.join(random.choice(last_letters) for i in range(3))\n",
    "    return str1+str2+str3\n",
    "    \n",
    "print(get_random_string())"
   ]
  },
  {
   "cell_type": "code",
   "execution_count": 4,
   "metadata": {},
   "outputs": [
    {
     "data": {
      "text/plain": [
       "['EEDC2XML', 'FBFE1PLW', 'EFBF1ZMO', 'EEBA1LPM']"
      ]
     },
     "execution_count": 4,
     "metadata": {},
     "output_type": "execute_result"
    }
   ],
   "source": [
    "# get 25,000 sequences of this format\n",
    "random_sequences = [get_random_string() for i in range(25000)]\n",
    "random_sequences[1:5]"
   ]
  },
  {
   "cell_type": "code",
   "execution_count": 5,
   "metadata": {},
   "outputs": [],
   "source": [
    "#Build the char index that we will use to encode seqs to numbers\n",
    "char_index = '0abcdefghijklmnopqrstuvwxyz'\n",
    "char_index +='ABCDEFGHIJKLMNOPQRSTUVWXYZ'\n",
    "char_index += '123456789'\n",
    "char_index += '().,-/+=&$?@#!*:;_[]|%⸏{}\\\"\\'' + ' ' +'\\\\'\n",
    "\n",
    "char_to_int = dict((c, i) for i, c in enumerate(char_index))\n",
    "int_to_char = dict((i, c) for i, c in enumerate(char_index))"
   ]
  },
  {
   "cell_type": "code",
   "execution_count": 6,
   "metadata": {
    "scrolled": true
   },
   "outputs": [
    {
     "name": "stderr",
     "output_type": "stream",
     "text": [
      "Using TensorFlow backend.\n"
     ]
    }
   ],
   "source": [
    "from keras.preprocessing.sequence import pad_sequences\n",
    "#function that convert a char seqs to numbers seqs \n",
    "#(it does a little more but lets leave it for now)\n",
    "def encode_sequence_list(seqs, feat_n=0):\n",
    "    encoded_seqs = []\n",
    "    for seq in seqs:\n",
    "        encoded_seq = [char_to_int[c] for c in seq]\n",
    "        encoded_seqs.append(encoded_seq)\n",
    "    if(feat_n > 0):\n",
    "        encoded_seqs.append(np.zeros(feat_n))\n",
    "    return pad_sequences(encoded_seqs, padding='post')\n",
    "\n",
    "def decode_sequence_list(seqs):\n",
    "    decoded_seqs = []\n",
    "    for seq in seqs:\n",
    "        decoded_seq = [int_to_char[i] for i in seq]\n",
    "        decoded_seqs.append(decoded_seq)\n",
    "    return decoded_seqs\n"
   ]
  },
  {
   "cell_type": "markdown",
   "metadata": {},
   "source": [
    "#### Adding anamoly to the sequence"
   ]
  },
  {
   "cell_type": "code",
   "execution_count": 7,
   "metadata": {},
   "outputs": [
    {
     "data": {
      "text/html": [
       "<div>\n",
       "<style scoped>\n",
       "    .dataframe tbody tr th:only-of-type {\n",
       "        vertical-align: middle;\n",
       "    }\n",
       "\n",
       "    .dataframe tbody tr th {\n",
       "        vertical-align: top;\n",
       "    }\n",
       "\n",
       "    .dataframe thead th {\n",
       "        text-align: right;\n",
       "    }\n",
       "</style>\n",
       "<table border=\"1\" class=\"dataframe\">\n",
       "  <thead>\n",
       "    <tr style=\"text-align: right;\">\n",
       "      <th></th>\n",
       "      <th>0</th>\n",
       "    </tr>\n",
       "  </thead>\n",
       "  <tbody>\n",
       "    <tr>\n",
       "      <th>0</th>\n",
       "      <td>DDAE1WQX</td>\n",
       "    </tr>\n",
       "    <tr>\n",
       "      <th>1</th>\n",
       "      <td>EEDC2XML</td>\n",
       "    </tr>\n",
       "    <tr>\n",
       "      <th>2</th>\n",
       "      <td>FBFE1PLW</td>\n",
       "    </tr>\n",
       "    <tr>\n",
       "      <th>3</th>\n",
       "      <td>EFBF1ZMO</td>\n",
       "    </tr>\n",
       "    <tr>\n",
       "      <th>4</th>\n",
       "      <td>EEBA1LPM</td>\n",
       "    </tr>\n",
       "  </tbody>\n",
       "</table>\n",
       "</div>"
      ],
      "text/plain": [
       "          0\n",
       "0  DDAE1WQX\n",
       "1  EEDC2XML\n",
       "2  FBFE1PLW\n",
       "3  EFBF1ZMO\n",
       "4  EEBA1LPM"
      ]
     },
     "execution_count": 7,
     "metadata": {},
     "output_type": "execute_result"
    }
   ],
   "source": [
    "# add some anomalies to our list\n",
    "random_sequences.extend(['XYDC2DCA', 'TXSX1ABC','RNIU4XRE','AABDXUEI','SDRAC5RF'])\n",
    "#save this to a dataframe\n",
    "seqs_ds = pd.DataFrame(random_sequences)\n",
    "# encode each string seq to an integer array [[1],[5],[67]], [[45],[76],[7]\n",
    "encoded_seqs = encode_sequence_list(random_sequences)\n",
    "# mix everything up\n",
    "np.random.shuffle(encoded_seqs)\n",
    "decoded_seqs = decode_sequence_list(encoded_seqs)\n",
    "seqs_ds.head()"
   ]
  },
  {
   "cell_type": "code",
   "execution_count": 8,
   "metadata": {
    "scrolled": true
   },
   "outputs": [
    {
     "name": "stdout",
     "output_type": "stream",
     "text": [
      "['E', 'A', 'E', 'B', '1', 'W', 'P', 'Q']\n",
      "[31 27 31 28 53 49 42 43]\n"
     ]
    }
   ],
   "source": [
    "print(decoded_seqs[10])\n",
    "print(encoded_seqs[10])"
   ]
  },
  {
   "cell_type": "code",
   "execution_count": 9,
   "metadata": {},
   "outputs": [
    {
     "data": {
      "text/plain": [
       "(25005, 8)"
      ]
     },
     "execution_count": 9,
     "metadata": {},
     "output_type": "execute_result"
    }
   ],
   "source": [
    "encoded_seqs.shape"
   ]
  },
  {
   "cell_type": "markdown",
   "metadata": {},
   "source": [
    "### Prepare the Data and Build an Autoencoder"
   ]
  },
  {
   "cell_type": "code",
   "execution_count": 10,
   "metadata": {},
   "outputs": [],
   "source": [
    "from sklearn.preprocessing import StandardScaler, MinMaxScaler\n",
    "scaler = MinMaxScaler()\n",
    "scaled_seqs = scaler.fit_transform(encoded_seqs)\n",
    "X_train = scaled_seqs[:20000]\n",
    "X_test = scaled_seqs[20000:]"
   ]
  },
  {
   "cell_type": "code",
   "execution_count": 23,
   "metadata": {},
   "outputs": [
    {
     "data": {
      "text/plain": [
       "(20000, 8)"
      ]
     },
     "execution_count": 23,
     "metadata": {},
     "output_type": "execute_result"
    }
   ],
   "source": [
    "X_train.shape"
   ]
  },
  {
   "cell_type": "code",
   "execution_count": 11,
   "metadata": {},
   "outputs": [],
   "source": [
    "from keras.models import Model, load_model\n",
    "from keras.layers import Input, Dense, Dropout, LSTM\n",
    "from keras.callbacks import ModelCheckpoint, TensorBoard\n",
    "from keras import regularizers\n",
    "\n",
    "input_dim = X_train.shape[1] #features\n",
    "encoding_dim = 8\n",
    "hidden_dim = int(encoding_dim / 2)\n",
    "\n",
    "nb_epoch = 30\n",
    "batch_size = 128\n",
    "learning_rate = 0.1\n",
    "\n",
    "input_layer = Input(shape=(input_dim, ))\n",
    "\n",
    "encoder = Dense(encoding_dim, activation=\"tanh\", activity_regularizer=regularizers.l1(10e-5))(input_layer)\n",
    "encoder = Dense(hidden_dim, activation=\"relu\")(encoder)\n",
    "decoder = Dense(hidden_dim, activation='relu')(encoder)\n",
    "decoder = Dense(encoding_dim, activation='relu')(encoder)\n",
    "decoder = Dense(input_dim, activation='tanh')(decoder)\n",
    "\n",
    "autoencoder = Model(inputs=input_layer, outputs=decoder)\n",
    "\n"
   ]
  },
  {
   "cell_type": "markdown",
   "metadata": {},
   "source": [
    "### Fit the Model"
   ]
  },
  {
   "cell_type": "code",
   "execution_count": 12,
   "metadata": {},
   "outputs": [
    {
     "name": "stdout",
     "output_type": "stream",
     "text": [
      "Train on 20000 samples, validate on 5005 samples\n",
      "Epoch 1/30\n",
      "20000/20000 [==============================] - 0s 11us/step - loss: 0.1503 - mae: 0.2484 - val_loss: 0.0624 - val_mae: 0.1436\n",
      "Epoch 2/30\n",
      "20000/20000 [==============================] - 0s 6us/step - loss: 0.0549 - mae: 0.1421 - val_loss: 0.0490 - val_mae: 0.1387\n",
      "Epoch 3/30\n",
      "20000/20000 [==============================] - 0s 7us/step - loss: 0.0454 - mae: 0.1360 - val_loss: 0.0410 - val_mae: 0.1308\n",
      "Epoch 4/30\n",
      "20000/20000 [==============================] - 0s 7us/step - loss: 0.0373 - mae: 0.1256 - val_loss: 0.0331 - val_mae: 0.1182\n",
      "Epoch 5/30\n",
      "20000/20000 [==============================] - 0s 7us/step - loss: 0.0299 - mae: 0.1112 - val_loss: 0.0269 - val_mae: 0.1042\n",
      "Epoch 6/30\n",
      "20000/20000 [==============================] - 0s 7us/step - loss: 0.0250 - mae: 0.1000 - val_loss: 0.0234 - val_mae: 0.0972\n",
      "Epoch 7/30\n",
      "20000/20000 [==============================] - 0s 7us/step - loss: 0.0221 - mae: 0.0954 - val_loss: 0.0209 - val_mae: 0.0940\n",
      "Epoch 8/30\n",
      "20000/20000 [==============================] - 0s 6us/step - loss: 0.0200 - mae: 0.0927 - val_loss: 0.0191 - val_mae: 0.0917\n",
      "Epoch 9/30\n",
      "20000/20000 [==============================] - 0s 7us/step - loss: 0.0183 - mae: 0.0896 - val_loss: 0.0174 - val_mae: 0.0880\n",
      "Epoch 10/30\n",
      "20000/20000 [==============================] - 0s 7us/step - loss: 0.0169 - mae: 0.0869 - val_loss: 0.0163 - val_mae: 0.0863\n",
      "Epoch 11/30\n",
      "20000/20000 [==============================] - 0s 7us/step - loss: 0.0159 - mae: 0.0856 - val_loss: 0.0154 - val_mae: 0.0850\n",
      "Epoch 12/30\n",
      "20000/20000 [==============================] - 0s 7us/step - loss: 0.0152 - mae: 0.0845 - val_loss: 0.0147 - val_mae: 0.0838\n",
      "Epoch 13/30\n",
      "20000/20000 [==============================] - 0s 7us/step - loss: 0.0145 - mae: 0.0831 - val_loss: 0.0140 - val_mae: 0.0821\n",
      "Epoch 14/30\n",
      "20000/20000 [==============================] - 0s 6us/step - loss: 0.0137 - mae: 0.0806 - val_loss: 0.0131 - val_mae: 0.0786\n",
      "Epoch 15/30\n",
      "20000/20000 [==============================] - 0s 8us/step - loss: 0.0126 - mae: 0.0761 - val_loss: 0.0120 - val_mae: 0.0736\n",
      "Epoch 16/30\n",
      "20000/20000 [==============================] - 0s 8us/step - loss: 0.0117 - mae: 0.0712 - val_loss: 0.0113 - val_mae: 0.0694\n",
      "Epoch 17/30\n",
      "20000/20000 [==============================] - 0s 7us/step - loss: 0.0112 - mae: 0.0680 - val_loss: 0.0109 - val_mae: 0.0671\n",
      "Epoch 18/30\n",
      "20000/20000 [==============================] - 0s 8us/step - loss: 0.0108 - mae: 0.0664 - val_loss: 0.0106 - val_mae: 0.0657\n",
      "Epoch 19/30\n",
      "20000/20000 [==============================] - 0s 7us/step - loss: 0.0106 - mae: 0.0654 - val_loss: 0.0103 - val_mae: 0.0653\n",
      "Epoch 20/30\n",
      "20000/20000 [==============================] - 0s 7us/step - loss: 0.0103 - mae: 0.0648 - val_loss: 0.0101 - val_mae: 0.0644\n",
      "Epoch 21/30\n",
      "20000/20000 [==============================] - 0s 8us/step - loss: 0.0101 - mae: 0.0643 - val_loss: 0.0099 - val_mae: 0.0641\n",
      "Epoch 22/30\n",
      "20000/20000 [==============================] - 0s 8us/step - loss: 0.0100 - mae: 0.0639 - val_loss: 0.0098 - val_mae: 0.0638\n",
      "Epoch 23/30\n",
      "20000/20000 [==============================] - 0s 7us/step - loss: 0.0098 - mae: 0.0636 - val_loss: 0.0096 - val_mae: 0.0633\n",
      "Epoch 24/30\n",
      "20000/20000 [==============================] - 0s 7us/step - loss: 0.0097 - mae: 0.0634 - val_loss: 0.0096 - val_mae: 0.0634\n",
      "Epoch 25/30\n",
      "20000/20000 [==============================] - 0s 7us/step - loss: 0.0096 - mae: 0.0632 - val_loss: 0.0094 - val_mae: 0.0631\n",
      "Epoch 26/30\n",
      "20000/20000 [==============================] - 0s 8us/step - loss: 0.0095 - mae: 0.0630 - val_loss: 0.0093 - val_mae: 0.0628\n",
      "Epoch 27/30\n",
      "20000/20000 [==============================] - 0s 7us/step - loss: 0.0094 - mae: 0.0629 - val_loss: 0.0092 - val_mae: 0.0627\n",
      "Epoch 28/30\n",
      "20000/20000 [==============================] - 0s 7us/step - loss: 0.0093 - mae: 0.0628 - val_loss: 0.0091 - val_mae: 0.0624\n",
      "Epoch 29/30\n",
      "20000/20000 [==============================] - 0s 7us/step - loss: 0.0092 - mae: 0.0626 - val_loss: 0.0091 - val_mae: 0.0624\n",
      "Epoch 30/30\n",
      "20000/20000 [==============================] - 0s 8us/step - loss: 0.0091 - mae: 0.0625 - val_loss: 0.0090 - val_mae: 0.0627\n"
     ]
    }
   ],
   "source": [
    "autoencoder.compile(optimizer='adam', \n",
    "                    loss='mean_squared_error', \n",
    "                    metrics=['mae'])\n",
    "\n",
    "checkpointer = ModelCheckpoint(filepath=\"model_seqs2.h5\",\n",
    "                               verbose=0,\n",
    "                               save_best_only=True)\n",
    "\n",
    "tensorboard = TensorBoard(log_dir='./logs',\n",
    "                          histogram_freq=0,\n",
    "                          write_graph=True,\n",
    "                          write_images=True)\n",
    "\n",
    "history = autoencoder.fit(X_train, X_train,\n",
    "                    epochs=nb_epoch,\n",
    "                    batch_size=batch_size,\n",
    "                    shuffle=True,\n",
    "                    validation_data=(X_test, X_test),\n",
    "                    verbose=1,\n",
    "                    callbacks=[checkpointer]).history"
   ]
  },
  {
   "cell_type": "code",
   "execution_count": 13,
   "metadata": {},
   "outputs": [
    {
     "data": {
      "image/png": "[encoded data removed]",
      "text/plain": [
       "<Figure size 864x432 with 1 Axes>"
      ]
     },
     "metadata": {},
     "output_type": "display_data"
    }
   ],
   "source": [
    "plt.plot(np.arange(1, 31), history['loss'])\n",
    "plt.plot(np.arange(1, 31), history['val_loss'])\n",
    "plt.title('model loss')\n",
    "plt.ylabel('loss')\n",
    "plt.xlabel('epoch')\n",
    "plt.legend(['train', 'test'], loc='upper right');"
   ]
  },
  {
   "cell_type": "code",
   "execution_count": 14,
   "metadata": {},
   "outputs": [
    {
     "name": "stdout",
     "output_type": "stream",
     "text": [
      "Min Loss:0.009119325986504554\n"
     ]
    }
   ],
   "source": [
    "autoencoder = load_model('model_seqs2.h5')\n",
    "print(f'Min Loss:{np.min(history[\"loss\"])}')"
   ]
  },
  {
   "cell_type": "markdown",
   "metadata": {},
   "source": [
    "### Calculate the Error Term"
   ]
  },
  {
   "cell_type": "code",
   "execution_count": 15,
   "metadata": {},
   "outputs": [
    {
     "name": "stdout",
     "output_type": "stream",
     "text": [
      "MSE: 0.163891400902213\n"
     ]
    }
   ],
   "source": [
    "#get the MSE error term\n",
    "predictions = autoencoder.predict(scaled_seqs)\n",
    "mse = np.mean(np.power(scaled_seqs - predictions, 2), axis=1)\n",
    "print('MSE:', np.quantile(mse, 0.9999)) # => the 9999% quatile - only 0.0001% have error score higher than that\n"
   ]
  },
  {
   "cell_type": "markdown",
   "metadata": {},
   "source": [
    "### Lets return to the seqs_ds data set that holds all the sequences"
   ]
  },
  {
   "cell_type": "code",
   "execution_count": 16,
   "metadata": {},
   "outputs": [],
   "source": [
    "#encode all the data\n",
    "encoded_seqs = encode_sequence_list(seqs_ds.iloc[:,0])\n",
    "#scale it\n",
    "scaled_data = MinMaxScaler().fit_transform(encoded_seqs)\n",
    "#predict it\n",
    "predicted = autoencoder.predict(scaled_data)\n",
    "#get the error term\n",
    "mse = np.mean(np.power(scaled_data - predicted, 2), axis=1)\n",
    "#now add them to our data frame\n",
    "seqs_ds['MSE'] = mse"
   ]
  },
  {
   "cell_type": "code",
   "execution_count": 17,
   "metadata": {},
   "outputs": [
    {
     "data": {
      "text/html": [
       "<div>\n",
       "<style scoped>\n",
       "    .dataframe tbody tr th:only-of-type {\n",
       "        vertical-align: middle;\n",
       "    }\n",
       "\n",
       "    .dataframe tbody tr th {\n",
       "        vertical-align: top;\n",
       "    }\n",
       "\n",
       "    .dataframe thead th {\n",
       "        text-align: right;\n",
       "    }\n",
       "</style>\n",
       "<table border=\"1\" class=\"dataframe\">\n",
       "  <thead>\n",
       "    <tr style=\"text-align: right;\">\n",
       "      <th></th>\n",
       "      <th>0</th>\n",
       "      <th>MSE</th>\n",
       "    </tr>\n",
       "  </thead>\n",
       "  <tbody>\n",
       "    <tr>\n",
       "      <th>0</th>\n",
       "      <td>DDAE1WQX</td>\n",
       "      <td>0.008053</td>\n",
       "    </tr>\n",
       "    <tr>\n",
       "      <th>1</th>\n",
       "      <td>EEDC2XML</td>\n",
       "      <td>0.002146</td>\n",
       "    </tr>\n",
       "    <tr>\n",
       "      <th>2</th>\n",
       "      <td>FBFE1PLW</td>\n",
       "      <td>0.016490</td>\n",
       "    </tr>\n",
       "    <tr>\n",
       "      <th>3</th>\n",
       "      <td>EFBF1ZMO</td>\n",
       "      <td>0.004218</td>\n",
       "    </tr>\n",
       "    <tr>\n",
       "      <th>4</th>\n",
       "      <td>EEBA1LPM</td>\n",
       "      <td>0.001938</td>\n",
       "    </tr>\n",
       "    <tr>\n",
       "      <th>...</th>\n",
       "      <td>...</td>\n",
       "      <td>...</td>\n",
       "    </tr>\n",
       "    <tr>\n",
       "      <th>25000</th>\n",
       "      <td>XYDC2DCA</td>\n",
       "      <td>0.232744</td>\n",
       "    </tr>\n",
       "    <tr>\n",
       "      <th>25001</th>\n",
       "      <td>TXSX1ABC</td>\n",
       "      <td>0.354355</td>\n",
       "    </tr>\n",
       "    <tr>\n",
       "      <th>25002</th>\n",
       "      <td>RNIU4XRE</td>\n",
       "      <td>0.162242</td>\n",
       "    </tr>\n",
       "    <tr>\n",
       "      <th>25003</th>\n",
       "      <td>AABDXUEI</td>\n",
       "      <td>0.012312</td>\n",
       "    </tr>\n",
       "    <tr>\n",
       "      <th>25004</th>\n",
       "      <td>SDRAC5RF</td>\n",
       "      <td>0.165544</td>\n",
       "    </tr>\n",
       "  </tbody>\n",
       "</table>\n",
       "<p>25005 rows × 2 columns</p>\n",
       "</div>"
      ],
      "text/plain": [
       "              0       MSE\n",
       "0      DDAE1WQX  0.008053\n",
       "1      EEDC2XML  0.002146\n",
       "2      FBFE1PLW  0.016490\n",
       "3      EFBF1ZMO  0.004218\n",
       "4      EEBA1LPM  0.001938\n",
       "...         ...       ...\n",
       "25000  XYDC2DCA  0.232744\n",
       "25001  TXSX1ABC  0.354355\n",
       "25002  RNIU4XRE  0.162242\n",
       "25003  AABDXUEI  0.012312\n",
       "25004  SDRAC5RF  0.165544\n",
       "\n",
       "[25005 rows x 2 columns]"
      ]
     },
     "metadata": {},
     "output_type": "display_data"
    }
   ],
   "source": [
    "display(seqs_ds)"
   ]
  },
  {
   "cell_type": "markdown",
   "metadata": {},
   "source": [
    "### Consider anamoly which lies beyond 0.9999 percentile of data"
   ]
  },
  {
   "cell_type": "code",
   "execution_count": 18,
   "metadata": {
    "scrolled": true
   },
   "outputs": [
    {
     "name": "stdout",
     "output_type": "stream",
     "text": [
      "MSE 0.9999 threshhold:0.16389140627938745\n"
     ]
    }
   ],
   "source": [
    "mse_threshold = np.quantile(seqs_ds['MSE'], 0.9999)\n",
    "print(f'MSE 0.9999 threshhold:{mse_threshold}')"
   ]
  },
  {
   "cell_type": "code",
   "execution_count": 19,
   "metadata": {},
   "outputs": [],
   "source": [
    "seqs_ds['MSE_Outlier'] = 0\n",
    "seqs_ds.loc[seqs_ds['MSE'] > mse_threshold, 'MSE_Outlier'] = 1"
   ]
  },
  {
   "cell_type": "code",
   "execution_count": 20,
   "metadata": {},
   "outputs": [
    {
     "data": {
      "text/plain": [
       "['XYDC2DCA', 'TXSX1ABC', 'RNIU4XRE', 'AABDXUEI', 'SDRAC5RF']"
      ]
     },
     "execution_count": 20,
     "metadata": {},
     "output_type": "execute_result"
    }
   ],
   "source": [
    "random_sequences[25000:]"
   ]
  },
  {
   "cell_type": "code",
   "execution_count": 21,
   "metadata": {
    "scrolled": true
   },
   "outputs": [
    {
     "name": "stdout",
     "output_type": "stream",
     "text": [
      "Num of MSE outlier:3\n"
     ]
    },
    {
     "data": {
      "text/html": [
       "<div>\n",
       "<style scoped>\n",
       "    .dataframe tbody tr th:only-of-type {\n",
       "        vertical-align: middle;\n",
       "    }\n",
       "\n",
       "    .dataframe tbody tr th {\n",
       "        vertical-align: top;\n",
       "    }\n",
       "\n",
       "    .dataframe thead th {\n",
       "        text-align: right;\n",
       "    }\n",
       "</style>\n",
       "<table border=\"1\" class=\"dataframe\">\n",
       "  <thead>\n",
       "    <tr style=\"text-align: right;\">\n",
       "      <th></th>\n",
       "      <th>0</th>\n",
       "      <th>MSE</th>\n",
       "      <th>MSE_Outlier</th>\n",
       "    </tr>\n",
       "  </thead>\n",
       "  <tbody>\n",
       "    <tr>\n",
       "      <th>25000</th>\n",
       "      <td>XYDC2DCA</td>\n",
       "      <td>0.232744</td>\n",
       "      <td>1</td>\n",
       "    </tr>\n",
       "    <tr>\n",
       "      <th>25001</th>\n",
       "      <td>TXSX1ABC</td>\n",
       "      <td>0.354355</td>\n",
       "      <td>1</td>\n",
       "    </tr>\n",
       "    <tr>\n",
       "      <th>25002</th>\n",
       "      <td>RNIU4XRE</td>\n",
       "      <td>0.162242</td>\n",
       "      <td>0</td>\n",
       "    </tr>\n",
       "    <tr>\n",
       "      <th>25003</th>\n",
       "      <td>AABDXUEI</td>\n",
       "      <td>0.012312</td>\n",
       "      <td>0</td>\n",
       "    </tr>\n",
       "    <tr>\n",
       "      <th>25004</th>\n",
       "      <td>SDRAC5RF</td>\n",
       "      <td>0.165544</td>\n",
       "      <td>1</td>\n",
       "    </tr>\n",
       "  </tbody>\n",
       "</table>\n",
       "</div>"
      ],
      "text/plain": [
       "              0       MSE  MSE_Outlier\n",
       "25000  XYDC2DCA  0.232744            1\n",
       "25001  TXSX1ABC  0.354355            1\n",
       "25002  RNIU4XRE  0.162242            0\n",
       "25003  AABDXUEI  0.012312            0\n",
       "25004  SDRAC5RF  0.165544            1"
      ]
     },
     "execution_count": 21,
     "metadata": {},
     "output_type": "execute_result"
    }
   ],
   "source": [
    "print(f\"Num of MSE outlier:{seqs_ds['MSE_Outlier'].sum()}\")\n",
    "\n",
    "seqs_ds.iloc[25000:]"
   ]
  },
  {
   "cell_type": "code",
   "execution_count": 22,
   "metadata": {},
   "outputs": [
    {
     "data": {
      "text/html": [
       "<div>\n",
       "<style scoped>\n",
       "    .dataframe tbody tr th:only-of-type {\n",
       "        vertical-align: middle;\n",
       "    }\n",
       "\n",
       "    .dataframe tbody tr th {\n",
       "        vertical-align: top;\n",
       "    }\n",
       "\n",
       "    .dataframe thead th {\n",
       "        text-align: right;\n",
       "    }\n",
       "</style>\n",
       "<table border=\"1\" class=\"dataframe\">\n",
       "  <thead>\n",
       "    <tr style=\"text-align: right;\">\n",
       "      <th></th>\n",
       "      <th>0</th>\n",
       "      <th>MSE</th>\n",
       "      <th>MSE_Outlier</th>\n",
       "    </tr>\n",
       "  </thead>\n",
       "  <tbody>\n",
       "    <tr>\n",
       "      <th>25000</th>\n",
       "      <td>XYDC2DCA</td>\n",
       "      <td>0.232744</td>\n",
       "      <td>1</td>\n",
       "    </tr>\n",
       "    <tr>\n",
       "      <th>25001</th>\n",
       "      <td>TXSX1ABC</td>\n",
       "      <td>0.354355</td>\n",
       "      <td>1</td>\n",
       "    </tr>\n",
       "    <tr>\n",
       "      <th>25004</th>\n",
       "      <td>SDRAC5RF</td>\n",
       "      <td>0.165544</td>\n",
       "      <td>1</td>\n",
       "    </tr>\n",
       "  </tbody>\n",
       "</table>\n",
       "</div>"
      ],
      "text/plain": [
       "              0       MSE  MSE_Outlier\n",
       "25000  XYDC2DCA  0.232744            1\n",
       "25001  TXSX1ABC  0.354355            1\n",
       "25004  SDRAC5RF  0.165544            1"
      ]
     },
     "execution_count": 22,
     "metadata": {},
     "output_type": "execute_result"
    }
   ],
   "source": [
    "seqs_ds[seqs_ds.MSE_Outlier == 1]"
   ]
  },
  {
   "cell_type": "code",
   "execution_count": null,
   "metadata": {},
   "outputs": [],
   "source": []
  }
 ],
 "metadata": {
  "kernelspec": {
   "display_name": "Python 3",
   "language": "python",
   "name": "python3"
  },
  "language_info": {
   "codemirror_mode": {
    "name": "ipython",
    "version": 3
   },
   "file_extension": ".py",
   "mimetype": "text/x-python",
   "name": "python",
   "nbconvert_exporter": "python",
   "pygments_lexer": "ipython3",
   "version": "3.7.6"
  }
 },
 "nbformat": 4,
 "nbformat_minor": 2
}
