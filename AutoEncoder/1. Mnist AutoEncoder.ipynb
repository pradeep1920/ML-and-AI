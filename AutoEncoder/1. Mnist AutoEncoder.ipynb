{
 "cells": [
  {
   "cell_type": "code",
   "execution_count": 1,
   "metadata": {
    "scrolled": true
   },
   "outputs": [
    {
     "name": "stderr",
     "output_type": "stream",
     "text": [
      "Using TensorFlow backend.\n"
     ]
    }
   ],
   "source": [
    "from keras.datasets import mnist\n",
    "from keras.layers import Input, Dense\n",
    "from keras.models import Model\n",
    "\n",
    "import numpy as np\n",
    "import matplotlib.pyplot as plt\n",
    "\n",
    "%matplotlib inline"
   ]
  },
  {
   "cell_type": "markdown",
   "metadata": {},
   "source": [
    "### Get the data"
   ]
  },
  {
   "cell_type": "code",
   "execution_count": 2,
   "metadata": {},
   "outputs": [],
   "source": [
    "(x_train, _), (x_test, _) = mnist.load_data()"
   ]
  },
  {
   "cell_type": "markdown",
   "metadata": {},
   "source": [
    "### Normalize and flatten the 28x28 images into vectors of size 784"
   ]
  },
  {
   "cell_type": "code",
   "execution_count": 3,
   "metadata": {},
   "outputs": [
    {
     "name": "stdout",
     "output_type": "stream",
     "text": [
      "(60000, 784)\n",
      "(10000, 784)\n"
     ]
    }
   ],
   "source": [
    "x_train = x_train.astype('float32') / 255.\n",
    "x_test = x_test.astype('float32') / 255.\n",
    "x_train = x_train.reshape((len(x_train), np.prod(x_train.shape[1:])))\n",
    "x_test = x_test.reshape((len(x_test), np.prod(x_test.shape[1:])))\n",
    "print(x_train.shape)\n",
    "print(x_test.shape)"
   ]
  },
  {
   "cell_type": "markdown",
   "metadata": {},
   "source": [
    "# Basic AutoEncoder"
   ]
  },
  {
   "cell_type": "code",
   "execution_count": 4,
   "metadata": {},
   "outputs": [
    {
     "name": "stdout",
     "output_type": "stream",
     "text": [
      "Model: \"model_1\"\n",
      "_________________________________________________________________\n",
      "Layer (type)                 Output Shape              Param #   \n",
      "=================================================================\n",
      "input_1 (InputLayer)         (None, 784)               0         \n",
      "_________________________________________________________________\n",
      "dense_1 (Dense)              (None, 32)                25120     \n",
      "_________________________________________________________________\n",
      "dense_2 (Dense)              (None, 784)               25872     \n",
      "=================================================================\n",
      "Total params: 50,992\n",
      "Trainable params: 50,992\n",
      "Non-trainable params: 0\n",
      "_________________________________________________________________\n"
     ]
    }
   ],
   "source": [
    "encoding_dim = 32 \n",
    "input_img = Input(shape=(x_train.shape[1], ))\n",
    "\n",
    "# \"encoded\" is the encoded representation of the input\n",
    "encoded = Dense(encoding_dim, activation='relu')(input_img)\n",
    "# \"decoded\" is the lossy reconstruction of the input\n",
    "decoded = Dense(x_train.shape[1], activation='sigmoid')(encoded)\n",
    "\n",
    "# this model maps an input to its reconstruction\n",
    "autoencoder = Model(input_img, decoded)\n",
    "autoencoder.summary()\n"
   ]
  },
  {
   "cell_type": "markdown",
   "metadata": {},
   "source": [
    "### Encoder  Model"
   ]
  },
  {
   "cell_type": "code",
   "execution_count": 5,
   "metadata": {
    "scrolled": true
   },
   "outputs": [
    {
     "name": "stdout",
     "output_type": "stream",
     "text": [
      "Model: \"model_2\"\n",
      "_________________________________________________________________\n",
      "Layer (type)                 Output Shape              Param #   \n",
      "=================================================================\n",
      "input_1 (InputLayer)         (None, 784)               0         \n",
      "_________________________________________________________________\n",
      "dense_1 (Dense)              (None, 32)                25120     \n",
      "=================================================================\n",
      "Total params: 25,120\n",
      "Trainable params: 25,120\n",
      "Non-trainable params: 0\n",
      "_________________________________________________________________\n"
     ]
    }
   ],
   "source": [
    "encoder_model = Model(input_img, encoded)\n",
    "encoder_model.summary()"
   ]
  },
  {
   "cell_type": "markdown",
   "metadata": {},
   "source": [
    "### Decoder Model"
   ]
  },
  {
   "cell_type": "code",
   "execution_count": 6,
   "metadata": {},
   "outputs": [
    {
     "name": "stdout",
     "output_type": "stream",
     "text": [
      "Model: \"model_3\"\n",
      "_________________________________________________________________\n",
      "Layer (type)                 Output Shape              Param #   \n",
      "=================================================================\n",
      "input_2 (InputLayer)         (None, 32)                0         \n",
      "_________________________________________________________________\n",
      "dense_2 (Dense)              (None, 784)               25872     \n",
      "=================================================================\n",
      "Total params: 25,872\n",
      "Trainable params: 25,872\n",
      "Non-trainable params: 0\n",
      "_________________________________________________________________\n"
     ]
    }
   ],
   "source": [
    "encoded_input = Input(shape=(encoding_dim,))\n",
    "\n",
    "# retrieve the last layer of the autoencoder model\n",
    "decoder_layer = autoencoder.layers[-1]\n",
    "\n",
    "decoder_model = Model(encoded_input, decoder_layer(encoded_input))\n",
    "decoder_model.summary()"
   ]
  },
  {
   "cell_type": "markdown",
   "metadata": {},
   "source": [
    "### Compiling autoencode"
   ]
  },
  {
   "cell_type": "code",
   "execution_count": 7,
   "metadata": {},
   "outputs": [],
   "source": [
    "autoencoder.compile(optimizer='adam', loss = 'binary_crossentropy')"
   ]
  },
  {
   "cell_type": "markdown",
   "metadata": {},
   "source": [
    "### Train autoencoder"
   ]
  },
  {
   "cell_type": "code",
   "execution_count": 8,
   "metadata": {},
   "outputs": [
    {
     "name": "stdout",
     "output_type": "stream",
     "text": [
      "Train on 60000 samples, validate on 10000 samples\n",
      "Epoch 1/50\n",
      " - 2s - loss: 0.2766 - val_loss: 0.1893\n",
      "Epoch 2/50\n",
      " - 1s - loss: 0.1708 - val_loss: 0.1533\n",
      "Epoch 3/50\n",
      " - 1s - loss: 0.1441 - val_loss: 0.1335\n",
      "Epoch 4/50\n",
      " - 1s - loss: 0.1286 - val_loss: 0.1215\n",
      "Epoch 5/50\n",
      " - 1s - loss: 0.1186 - val_loss: 0.1133\n",
      "Epoch 6/50\n",
      " - 1s - loss: 0.1116 - val_loss: 0.1074\n",
      "Epoch 7/50\n",
      " - 1s - loss: 0.1065 - val_loss: 0.1031\n",
      "Epoch 8/50\n",
      " - 1s - loss: 0.1027 - val_loss: 0.0998\n",
      "Epoch 9/50\n",
      " - 1s - loss: 0.0999 - val_loss: 0.0974\n",
      "Epoch 10/50\n",
      " - 1s - loss: 0.0978 - val_loss: 0.0957\n",
      "Epoch 11/50\n",
      " - 1s - loss: 0.0964 - val_loss: 0.0946\n",
      "Epoch 12/50\n",
      " - 1s - loss: 0.0955 - val_loss: 0.0939\n",
      "Epoch 13/50\n",
      " - 1s - loss: 0.0949 - val_loss: 0.0934\n",
      "Epoch 14/50\n",
      " - 1s - loss: 0.0945 - val_loss: 0.0931\n",
      "Epoch 15/50\n",
      " - 1s - loss: 0.0942 - val_loss: 0.0928\n",
      "Epoch 16/50\n",
      " - 1s - loss: 0.0940 - val_loss: 0.0927\n",
      "Epoch 17/50\n",
      " - 1s - loss: 0.0938 - val_loss: 0.0924\n",
      "Epoch 18/50\n",
      " - 1s - loss: 0.0937 - val_loss: 0.0923\n",
      "Epoch 19/50\n",
      " - 1s - loss: 0.0936 - val_loss: 0.0924\n",
      "Epoch 20/50\n",
      " - 1s - loss: 0.0935 - val_loss: 0.0922\n",
      "Epoch 21/50\n",
      " - 1s - loss: 0.0934 - val_loss: 0.0922\n",
      "Epoch 22/50\n",
      " - 1s - loss: 0.0934 - val_loss: 0.0921\n",
      "Epoch 23/50\n",
      " - 1s - loss: 0.0933 - val_loss: 0.0921\n",
      "Epoch 24/50\n",
      " - 1s - loss: 0.0932 - val_loss: 0.0919\n",
      "Epoch 25/50\n",
      " - 1s - loss: 0.0932 - val_loss: 0.0920\n",
      "Epoch 26/50\n",
      " - 1s - loss: 0.0932 - val_loss: 0.0919\n",
      "Epoch 27/50\n",
      " - 1s - loss: 0.0931 - val_loss: 0.0919\n",
      "Epoch 28/50\n",
      " - 1s - loss: 0.0931 - val_loss: 0.0920\n",
      "Epoch 29/50\n",
      " - 1s - loss: 0.0931 - val_loss: 0.0918\n",
      "Epoch 30/50\n",
      " - 1s - loss: 0.0930 - val_loss: 0.0918\n",
      "Epoch 31/50\n",
      " - 1s - loss: 0.0930 - val_loss: 0.0918\n",
      "Epoch 32/50\n",
      " - 1s - loss: 0.0930 - val_loss: 0.0918\n",
      "Epoch 33/50\n",
      " - 1s - loss: 0.0930 - val_loss: 0.0917\n",
      "Epoch 34/50\n",
      " - 1s - loss: 0.0929 - val_loss: 0.0917\n",
      "Epoch 35/50\n",
      " - 1s - loss: 0.0929 - val_loss: 0.0917\n",
      "Epoch 36/50\n",
      " - 1s - loss: 0.0929 - val_loss: 0.0917\n",
      "Epoch 37/50\n",
      " - 1s - loss: 0.0929 - val_loss: 0.0917\n",
      "Epoch 38/50\n",
      " - 2s - loss: 0.0929 - val_loss: 0.0917\n",
      "Epoch 39/50\n",
      " - 1s - loss: 0.0928 - val_loss: 0.0917\n",
      "Epoch 40/50\n",
      " - 1s - loss: 0.0928 - val_loss: 0.0917\n",
      "Epoch 41/50\n",
      " - 1s - loss: 0.0928 - val_loss: 0.0917\n",
      "Epoch 42/50\n",
      " - 1s - loss: 0.0928 - val_loss: 0.0916\n",
      "Epoch 43/50\n",
      " - 1s - loss: 0.0928 - val_loss: 0.0916\n",
      "Epoch 44/50\n",
      " - 1s - loss: 0.0928 - val_loss: 0.0916\n",
      "Epoch 45/50\n",
      " - 1s - loss: 0.0928 - val_loss: 0.0916\n",
      "Epoch 46/50\n",
      " - 1s - loss: 0.0927 - val_loss: 0.0916\n",
      "Epoch 47/50\n",
      " - 1s - loss: 0.0927 - val_loss: 0.0916\n",
      "Epoch 48/50\n",
      " - 1s - loss: 0.0927 - val_loss: 0.0915\n",
      "Epoch 49/50\n",
      " - 1s - loss: 0.0927 - val_loss: 0.0916\n",
      "Epoch 50/50\n",
      " - 1s - loss: 0.0927 - val_loss: 0.0916\n"
     ]
    },
    {
     "data": {
      "text/plain": [
       "<keras.callbacks.callbacks.History at 0x17c0ad30d48>"
      ]
     },
     "execution_count": 8,
     "metadata": {},
     "output_type": "execute_result"
    }
   ],
   "source": [
    "autoencoder.fit(x = x_train, y = x_train, \n",
    "                epochs=50, \n",
    "                batch_size=256, \n",
    "                validation_data=(x_test, x_test), \n",
    "                shuffle=True, \n",
    "                verbose=2)"
   ]
  },
  {
   "cell_type": "code",
   "execution_count": 9,
   "metadata": {},
   "outputs": [
    {
     "data": {
      "image/png": "[encoded data removed]",
      "text/plain": [
       "<Figure size 720x576 with 1 Axes>"
      ]
     },
     "metadata": {
      "needs_background": "light"
     },
     "output_type": "display_data"
    }
   ],
   "source": [
    "epochs = 50\n",
    "plt.figure(figsize=(10, 8))\n",
    "plt.plot(np.arange(1, epochs + 1), autoencoder.history.history['loss'])\n",
    "plt.plot(np.arange(1, epochs + 1), autoencoder.history.history['val_loss'])\n",
    "plt.xlabel('Epochs')\n",
    "plt.ylabel('Loss')\n",
    "plt.show()"
   ]
  },
  {
   "cell_type": "markdown",
   "metadata": {},
   "source": [
    "### Plot the encoded and decoded image"
   ]
  },
  {
   "cell_type": "code",
   "execution_count": 10,
   "metadata": {},
   "outputs": [],
   "source": [
    "encoded_imgs = encoder_model.predict(x_test)\n",
    "decoded_imgs = decoder_model.predict(encoded_imgs)"
   ]
  },
  {
   "cell_type": "code",
   "execution_count": 11,
   "metadata": {},
   "outputs": [
    {
     "data": {
      "image/png": "[encoded data removed]",
      "text/plain": [
       "<Figure size 1440x288 with 20 Axes>"
      ]
     },
     "metadata": {
      "needs_background": "light"
     },
     "output_type": "display_data"
    }
   ],
   "source": [
    "n = 10 \n",
    "plt.figure(figsize=(20, 4))\n",
    "for i in range(n):\n",
    "    # display original\n",
    "    ax = plt.subplot(2, n, i + 1)\n",
    "    plt.imshow(x_test[i].reshape(28, 28))\n",
    "    plt.gray()\n",
    "    ax.get_xaxis().set_visible(False)\n",
    "    ax.get_yaxis().set_visible(False)\n",
    "\n",
    "    # display reconstruction\n",
    "    ax = plt.subplot(2, n, i + 1 + n)\n",
    "    plt.imshow(decoded_imgs[i].reshape(28, 28))\n",
    "    plt.gray()\n",
    "    ax.get_xaxis().set_visible(False)\n",
    "    ax.get_yaxis().set_visible(False)\n",
    "plt.show()"
   ]
  },
  {
   "cell_type": "markdown",
   "metadata": {},
   "source": [
    "# Adding more layers to basic autoencoder"
   ]
  },
  {
   "cell_type": "code",
   "execution_count": 12,
   "metadata": {},
   "outputs": [
    {
     "name": "stdout",
     "output_type": "stream",
     "text": [
      "Model: \"model_4\"\n",
      "_________________________________________________________________\n",
      "Layer (type)                 Output Shape              Param #   \n",
      "=================================================================\n",
      "input_3 (InputLayer)         (None, 784)               0         \n",
      "_________________________________________________________________\n",
      "dense_3 (Dense)              (None, 128)               100480    \n",
      "_________________________________________________________________\n",
      "dense_4 (Dense)              (None, 64)                8256      \n",
      "_________________________________________________________________\n",
      "dense_5 (Dense)              (None, 32)                2080      \n",
      "_________________________________________________________________\n",
      "dense_6 (Dense)              (None, 64)                2112      \n",
      "_________________________________________________________________\n",
      "dense_7 (Dense)              (None, 128)               8320      \n",
      "_________________________________________________________________\n",
      "dense_8 (Dense)              (None, 784)               101136    \n",
      "=================================================================\n",
      "Total params: 222,384\n",
      "Trainable params: 222,384\n",
      "Non-trainable params: 0\n",
      "_________________________________________________________________\n"
     ]
    }
   ],
   "source": [
    "input_img = Input(shape=(x_train.shape[1],))\n",
    "encoded = Dense(128, activation='relu')(input_img)\n",
    "encoded = Dense(64, activation='relu')(encoded)\n",
    "encoded = Dense(32, activation='relu')(encoded)\n",
    "\n",
    "decoded = Dense(64, activation='relu')(encoded)\n",
    "decoded = Dense(128, activation='relu')(decoded)\n",
    "decoded = Dense(x_train.shape[1], activation='sigmoid')(decoded)\n",
    "\n",
    "autoencoder = Model(input_img, decoded)\n",
    "autoencoder.compile(optimizer='adam', loss='binary_crossentropy')\n",
    "autoencoder.summary()"
   ]
  },
  {
   "cell_type": "code",
   "execution_count": 13,
   "metadata": {},
   "outputs": [
    {
     "name": "stdout",
     "output_type": "stream",
     "text": [
      "Train on 60000 samples, validate on 10000 samples\n",
      "Epoch 1/100\n",
      "60000/60000 [==============================] - 2s 41us/step - loss: 0.2468 - val_loss: 0.1676\n",
      "Epoch 2/100\n",
      "60000/60000 [==============================] - 2s 37us/step - loss: 0.1489 - val_loss: 0.1347\n",
      "Epoch 3/100\n",
      "60000/60000 [==============================] - 2s 36us/step - loss: 0.1307 - val_loss: 0.1252\n",
      "Epoch 4/100\n",
      "60000/60000 [==============================] - 2s 37us/step - loss: 0.1222 - val_loss: 0.1167\n",
      "Epoch 5/100\n",
      "60000/60000 [==============================] - 2s 38us/step - loss: 0.1148 - val_loss: 0.1106\n",
      "Epoch 6/100\n",
      "60000/60000 [==============================] - 2s 37us/step - loss: 0.1098 - val_loss: 0.1063\n",
      "Epoch 7/100\n",
      "60000/60000 [==============================] - 2s 37us/step - loss: 0.1064 - val_loss: 0.1035\n",
      "Epoch 8/100\n",
      "60000/60000 [==============================] - 2s 38us/step - loss: 0.1038 - val_loss: 0.1014\n",
      "Epoch 9/100\n",
      "60000/60000 [==============================] - 2s 37us/step - loss: 0.1016 - val_loss: 0.0996\n",
      "Epoch 10/100\n",
      "60000/60000 [==============================] - 2s 37us/step - loss: 0.1001 - val_loss: 0.0986\n",
      "Epoch 11/100\n",
      "60000/60000 [==============================] - 2s 38us/step - loss: 0.0987 - val_loss: 0.0967\n",
      "Epoch 12/100\n",
      "60000/60000 [==============================] - 2s 34us/step - loss: 0.0976 - val_loss: 0.0961\n",
      "Epoch 13/100\n",
      "60000/60000 [==============================] - 2s 35us/step - loss: 0.0965 - val_loss: 0.0948\n",
      "Epoch 14/100\n",
      "60000/60000 [==============================] - 2s 40us/step - loss: 0.0954 - val_loss: 0.0940\n",
      "Epoch 15/100\n",
      "60000/60000 [==============================] - 2s 36us/step - loss: 0.0946 - val_loss: 0.0929\n",
      "Epoch 16/100\n",
      "60000/60000 [==============================] - 2s 36us/step - loss: 0.0938 - val_loss: 0.0923\n",
      "Epoch 17/100\n",
      "60000/60000 [==============================] - 2s 33us/step - loss: 0.0930 - val_loss: 0.0920\n",
      "Epoch 18/100\n",
      "60000/60000 [==============================] - 2s 34us/step - loss: 0.0924 - val_loss: 0.0915\n",
      "Epoch 19/100\n",
      "60000/60000 [==============================] - 2s 34us/step - loss: 0.0919 - val_loss: 0.0914\n",
      "Epoch 20/100\n",
      "60000/60000 [==============================] - 2s 32us/step - loss: 0.0913 - val_loss: 0.0903\n",
      "Epoch 21/100\n",
      "60000/60000 [==============================] - 2s 35us/step - loss: 0.0909 - val_loss: 0.0899\n",
      "Epoch 22/100\n",
      "60000/60000 [==============================] - 2s 34us/step - loss: 0.0904 - val_loss: 0.0897\n",
      "Epoch 23/100\n",
      "60000/60000 [==============================] - 2s 32us/step - loss: 0.0899 - val_loss: 0.0890\n",
      "Epoch 24/100\n",
      "60000/60000 [==============================] - 2s 35us/step - loss: 0.0896 - val_loss: 0.0885\n",
      "Epoch 25/100\n",
      "60000/60000 [==============================] - 2s 37us/step - loss: 0.0892 - val_loss: 0.0885\n",
      "Epoch 26/100\n",
      "60000/60000 [==============================] - 2s 39us/step - loss: 0.0888 - val_loss: 0.0880\n",
      "Epoch 27/100\n",
      "60000/60000 [==============================] - 2s 42us/step - loss: 0.0885 - val_loss: 0.0879\n",
      "Epoch 28/100\n",
      "60000/60000 [==============================] - 2s 37us/step - loss: 0.0882 - val_loss: 0.0872\n",
      "Epoch 29/100\n",
      "60000/60000 [==============================] - 2s 32us/step - loss: 0.0880 - val_loss: 0.0874\n",
      "Epoch 30/100\n",
      "60000/60000 [==============================] - 2s 34us/step - loss: 0.0877 - val_loss: 0.0876\n",
      "Epoch 31/100\n",
      "60000/60000 [==============================] - 2s 35us/step - loss: 0.0874 - val_loss: 0.0869\n",
      "Epoch 32/100\n",
      "60000/60000 [==============================] - 2s 36us/step - loss: 0.0872 - val_loss: 0.0866\n",
      "Epoch 33/100\n",
      "60000/60000 [==============================] - 2s 37us/step - loss: 0.0870 - val_loss: 0.0863\n",
      "Epoch 34/100\n",
      "60000/60000 [==============================] - 2s 38us/step - loss: 0.0867 - val_loss: 0.0859\n",
      "Epoch 35/100\n",
      "60000/60000 [==============================] - 2s 32us/step - loss: 0.0865 - val_loss: 0.0859\n",
      "Epoch 36/100\n",
      "60000/60000 [==============================] - 2s 33us/step - loss: 0.0863 - val_loss: 0.0859\n",
      "Epoch 37/100\n",
      "60000/60000 [==============================] - 2s 40us/step - loss: 0.0861 - val_loss: 0.0853\n",
      "Epoch 38/100\n",
      "60000/60000 [==============================] - 2s 38us/step - loss: 0.0859 - val_loss: 0.0852\n",
      "Epoch 39/100\n",
      "60000/60000 [==============================] - 2s 41us/step - loss: 0.0857 - val_loss: 0.0851\n",
      "Epoch 40/100\n",
      "60000/60000 [==============================] - 2s 39us/step - loss: 0.0856 - val_loss: 0.0849\n",
      "Epoch 41/100\n",
      "60000/60000 [==============================] - 2s 36us/step - loss: 0.0854 - val_loss: 0.0849\n",
      "Epoch 42/100\n",
      "60000/60000 [==============================] - 2s 35us/step - loss: 0.0852 - val_loss: 0.0846\n",
      "Epoch 43/100\n",
      "60000/60000 [==============================] - 2s 37us/step - loss: 0.0851 - val_loss: 0.0845\n",
      "Epoch 44/100\n",
      "60000/60000 [==============================] - 2s 35us/step - loss: 0.0849 - val_loss: 0.0845\n",
      "Epoch 45/100\n",
      "60000/60000 [==============================] - 2s 38us/step - loss: 0.0848 - val_loss: 0.0845\n",
      "Epoch 46/100\n",
      "60000/60000 [==============================] - 2s 37us/step - loss: 0.0847 - val_loss: 0.0840\n",
      "Epoch 47/100\n",
      "60000/60000 [==============================] - 2s 36us/step - loss: 0.0846 - val_loss: 0.0842\n",
      "Epoch 48/100\n",
      "60000/60000 [==============================] - 2s 36us/step - loss: 0.0846 - val_loss: 0.0841\n",
      "Epoch 49/100\n",
      "60000/60000 [==============================] - 2s 37us/step - loss: 0.0845 - val_loss: 0.0839\n",
      "Epoch 50/100\n",
      "60000/60000 [==============================] - 2s 35us/step - loss: 0.0843 - val_loss: 0.0838\n",
      "Epoch 51/100\n",
      "60000/60000 [==============================] - 2s 36us/step - loss: 0.0842 - val_loss: 0.0837\n",
      "Epoch 52/100\n",
      "60000/60000 [==============================] - 2s 36us/step - loss: 0.0841 - val_loss: 0.0836\n",
      "Epoch 53/100\n",
      "60000/60000 [==============================] - 2s 35us/step - loss: 0.0841 - val_loss: 0.0835\n",
      "Epoch 54/100\n",
      "60000/60000 [==============================] - 2s 36us/step - loss: 0.0841 - val_loss: 0.0836\n",
      "Epoch 55/100\n",
      "60000/60000 [==============================] - 2s 34us/step - loss: 0.0839 - val_loss: 0.0836\n",
      "Epoch 56/100\n",
      "60000/60000 [==============================] - 2s 36us/step - loss: 0.0839 - val_loss: 0.0835\n",
      "Epoch 57/100\n",
      "60000/60000 [==============================] - 2s 35us/step - loss: 0.0838 - val_loss: 0.0838\n",
      "Epoch 58/100\n",
      "60000/60000 [==============================] - 2s 34us/step - loss: 0.0837 - val_loss: 0.0832\n",
      "Epoch 59/100\n",
      "60000/60000 [==============================] - 2s 35us/step - loss: 0.0837 - val_loss: 0.0833\n",
      "Epoch 60/100\n",
      "60000/60000 [==============================] - 2s 34us/step - loss: 0.0836 - val_loss: 0.0834\n",
      "Epoch 61/100\n",
      "60000/60000 [==============================] - 2s 34us/step - loss: 0.0836 - val_loss: 0.0832\n",
      "Epoch 62/100\n",
      "60000/60000 [==============================] - 2s 31us/step - loss: 0.0835 - val_loss: 0.0830\n",
      "Epoch 63/100\n",
      "60000/60000 [==============================] - 2s 33us/step - loss: 0.0834 - val_loss: 0.0832\n",
      "Epoch 64/100\n",
      "60000/60000 [==============================] - 2s 34us/step - loss: 0.0834 - val_loss: 0.0833\n",
      "Epoch 65/100\n",
      "60000/60000 [==============================] - 2s 34us/step - loss: 0.0834 - val_loss: 0.0835\n",
      "Epoch 66/100\n",
      "60000/60000 [==============================] - 2s 34us/step - loss: 0.0833 - val_loss: 0.0829\n",
      "Epoch 67/100\n",
      "60000/60000 [==============================] - 2s 35us/step - loss: 0.0832 - val_loss: 0.0830\n",
      "Epoch 68/100\n",
      "60000/60000 [==============================] - 2s 34us/step - loss: 0.0832 - val_loss: 0.0830\n",
      "Epoch 69/100\n",
      "60000/60000 [==============================] - 2s 33us/step - loss: 0.0832 - val_loss: 0.0829\n",
      "Epoch 70/100\n",
      "60000/60000 [==============================] - 2s 35us/step - loss: 0.0831 - val_loss: 0.0828\n",
      "Epoch 71/100\n",
      "60000/60000 [==============================] - 2s 34us/step - loss: 0.0831 - val_loss: 0.0830\n",
      "Epoch 72/100\n",
      "60000/60000 [==============================] - 2s 36us/step - loss: 0.0830 - val_loss: 0.0828\n",
      "Epoch 73/100\n",
      "60000/60000 [==============================] - 2s 39us/step - loss: 0.0830 - val_loss: 0.0826\n",
      "Epoch 74/100\n",
      "60000/60000 [==============================] - 2s 37us/step - loss: 0.0829 - val_loss: 0.0827\n",
      "Epoch 75/100\n",
      "60000/60000 [==============================] - 2s 37us/step - loss: 0.0829 - val_loss: 0.0826\n",
      "Epoch 76/100\n",
      "60000/60000 [==============================] - 2s 37us/step - loss: 0.0829 - val_loss: 0.0826\n",
      "Epoch 77/100\n"
     ]
    },
    {
     "name": "stdout",
     "output_type": "stream",
     "text": [
      "60000/60000 [==============================] - 2s 37us/step - loss: 0.0828 - val_loss: 0.0826\n",
      "Epoch 78/100\n",
      "60000/60000 [==============================] - 2s 37us/step - loss: 0.0827 - val_loss: 0.0825\n",
      "Epoch 79/100\n",
      "60000/60000 [==============================] - 2s 37us/step - loss: 0.0828 - val_loss: 0.0825\n",
      "Epoch 80/100\n",
      "60000/60000 [==============================] - 2s 37us/step - loss: 0.0827 - val_loss: 0.0823\n",
      "Epoch 81/100\n",
      "60000/60000 [==============================] - 2s 36us/step - loss: 0.0827 - val_loss: 0.0824\n",
      "Epoch 82/100\n",
      "60000/60000 [==============================] - 2s 37us/step - loss: 0.0826 - val_loss: 0.0822\n",
      "Epoch 83/100\n",
      "60000/60000 [==============================] - 2s 38us/step - loss: 0.0826 - val_loss: 0.0823\n",
      "Epoch 84/100\n",
      "60000/60000 [==============================] - 2s 36us/step - loss: 0.0825 - val_loss: 0.0826\n",
      "Epoch 85/100\n",
      "60000/60000 [==============================] - 2s 39us/step - loss: 0.0825 - val_loss: 0.0822\n",
      "Epoch 86/100\n",
      "60000/60000 [==============================] - 2s 38us/step - loss: 0.0825 - val_loss: 0.0822\n",
      "Epoch 87/100\n",
      "60000/60000 [==============================] - 2s 35us/step - loss: 0.0825 - val_loss: 0.0824\n",
      "Epoch 88/100\n",
      "60000/60000 [==============================] - 2s 40us/step - loss: 0.0824 - val_loss: 0.0823\n",
      "Epoch 89/100\n",
      "60000/60000 [==============================] - 2s 40us/step - loss: 0.0824 - val_loss: 0.0823\n",
      "Epoch 90/100\n",
      "60000/60000 [==============================] - 2s 38us/step - loss: 0.0824 - val_loss: 0.0821\n",
      "Epoch 91/100\n",
      "60000/60000 [==============================] - 2s 36us/step - loss: 0.0823 - val_loss: 0.0822\n",
      "Epoch 92/100\n",
      "60000/60000 [==============================] - 2s 38us/step - loss: 0.0823 - val_loss: 0.0821\n",
      "Epoch 93/100\n",
      "60000/60000 [==============================] - 2s 39us/step - loss: 0.0823 - val_loss: 0.0821\n",
      "Epoch 94/100\n",
      "60000/60000 [==============================] - 2s 34us/step - loss: 0.0822 - val_loss: 0.0821\n",
      "Epoch 95/100\n",
      "60000/60000 [==============================] - 2s 34us/step - loss: 0.0822 - val_loss: 0.0824\n",
      "Epoch 96/100\n",
      "60000/60000 [==============================] - 2s 36us/step - loss: 0.0822 - val_loss: 0.0819\n",
      "Epoch 97/100\n",
      "60000/60000 [==============================] - 2s 35us/step - loss: 0.0822 - val_loss: 0.0822\n",
      "Epoch 98/100\n",
      "60000/60000 [==============================] - 2s 35us/step - loss: 0.0821 - val_loss: 0.0820\n",
      "Epoch 99/100\n",
      "60000/60000 [==============================] - 2s 34us/step - loss: 0.0821 - val_loss: 0.0823\n",
      "Epoch 100/100\n",
      "60000/60000 [==============================] - 2s 37us/step - loss: 0.0821 - val_loss: 0.0821\n"
     ]
    },
    {
     "data": {
      "text/plain": [
       "<keras.callbacks.callbacks.History at 0x17c0e0bc488>"
      ]
     },
     "execution_count": 13,
     "metadata": {},
     "output_type": "execute_result"
    }
   ],
   "source": [
    "autoencoder.fit(x_train, x_train,\n",
    "                epochs=100,\n",
    "                batch_size=256,\n",
    "                shuffle=True,\n",
    "                validation_data=(x_test, x_test))"
   ]
  },
  {
   "cell_type": "code",
   "execution_count": 14,
   "metadata": {},
   "outputs": [
    {
     "data": {
      "image/png": "[encoded data removed]",
      "text/plain": [
       "<Figure size 720x576 with 1 Axes>"
      ]
     },
     "metadata": {
      "needs_background": "light"
     },
     "output_type": "display_data"
    }
   ],
   "source": [
    "epochs = 100\n",
    "plt.figure(figsize=(10, 8))\n",
    "plt.plot(np.arange(1, epochs + 1), autoencoder.history.history['loss'])\n",
    "plt.plot(np.arange(1, epochs + 1), autoencoder.history.history['val_loss'])\n",
    "plt.xlabel('Epochs')\n",
    "plt.ylabel('Loss')\n",
    "plt.show()"
   ]
  },
  {
   "cell_type": "code",
   "execution_count": 15,
   "metadata": {},
   "outputs": [],
   "source": [
    "decoded_imgs = autoencoder.predict(x_test)"
   ]
  },
  {
   "cell_type": "code",
   "execution_count": 16,
   "metadata": {},
   "outputs": [
    {
     "data": {
      "image/png": "[encoded data removed]",
      "text/plain": [
       "<Figure size 1440x288 with 20 Axes>"
      ]
     },
     "metadata": {
      "needs_background": "light"
     },
     "output_type": "display_data"
    }
   ],
   "source": [
    "n = 10 \n",
    "plt.figure(figsize=(20, 4))\n",
    "for i in range(n):\n",
    "    # display original\n",
    "    ax = plt.subplot(2, n, i + 1)\n",
    "    plt.imshow(x_test[i].reshape(28, 28))\n",
    "    plt.gray()\n",
    "    ax.get_xaxis().set_visible(False)\n",
    "    ax.get_yaxis().set_visible(False)\n",
    "\n",
    "    # display reconstruction\n",
    "    ax = plt.subplot(2, n, i + 1 + n)\n",
    "    plt.imshow(decoded_imgs[i].reshape(28, 28))\n",
    "    plt.gray()\n",
    "    ax.get_xaxis().set_visible(False)\n",
    "    ax.get_yaxis().set_visible(False)\n",
    "plt.show()"
   ]
  },
  {
   "cell_type": "markdown",
   "metadata": {},
   "source": [
    "So increasing the depth, results in better reconstruction of original image by the auto encoder"
   ]
  },
  {
   "cell_type": "code",
   "execution_count": null,
   "metadata": {},
   "outputs": [],
   "source": []
  }
 ],
 "metadata": {
  "kernelspec": {
   "display_name": "Python 3",
   "language": "python",
   "name": "python3"
  },
  "language_info": {
   "codemirror_mode": {
    "name": "ipython",
    "version": 3
   },
   "file_extension": ".py",
   "mimetype": "text/x-python",
   "name": "python",
   "nbconvert_exporter": "python",
   "pygments_lexer": "ipython3",
   "version": "3.7.6"
  }
 },
 "nbformat": 4,
 "nbformat_minor": 4
}
